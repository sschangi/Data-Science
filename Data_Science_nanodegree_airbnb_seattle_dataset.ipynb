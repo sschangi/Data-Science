{
 "cells": [
  {
   "cell_type": "markdown",
   "id": "d2b551e2",
   "metadata": {},
   "source": [
    "# Business Understanding\n",
    "\n",
    "Airbnb stands for “Air Bed and Breakfast,” and is a service started in 2008 by Brian Chesky and Joe Gebbia. It is motivated by the fact that not every traveler can afford to stay in a hotel or find a hotel room specially in a busy, urban area. Therefore, Airbnb is supposed to provide the travellers with a simple and less expensive alternative options. It is a peer-to-peer business model letting property owners rent out their spaces to travelers and travelers rent a space for multiple people to share or rent the entire property for themselves. Consequently, Airbnb makes it simple and more profitable for both parties. \n",
    "\n",
    "In this project, analyzing [Seattle dataset](https://www.kaggle.com/datasets/airbnb/seattle), we are interested in answering the following questions:\n",
    "1. How much Airbnb homes are earning in certain time frames and areas?\n",
    "    - What are the areas with the highest and lowest prices?\n",
    "2. What are the properties helping to predict price?\n",
    "3. Can we find the lisings with positive and negative reviews?\n",
    "    - what are the characteristics of the positive and negative listings.\n",
    "    \n",
    "For this analysis, we particularly use the following datasets:\n",
    " - **calendar.csv** which consists of listing ids, availability and the price for the day \n",
    " - **listings.csv** which consists of informtion like the descriptions, property types and review scores\n",
    " - **reviews.csv** which consists of id, and name for each reviewer along with the provided comment\n"
   ]
  },
  {
   "cell_type": "markdown",
   "id": "dcc9f61f",
   "metadata": {},
   "source": [
    "# Data Understanding\n",
    "\n",
    "In this part, we gather, explore, clean, and analyze the data."
   ]
  },
  {
   "cell_type": "code",
   "execution_count": 1,
   "id": "e05962a3",
   "metadata": {},
   "outputs": [],
   "source": [
    "import numpy as np\n",
    "import pandas as pd\n",
    "import seaborn as sb\n",
    "import matplotlib.pyplot as plt\n",
    "\n",
    "from IPython import display\n",
    "%matplotlib inline"
   ]
  },
  {
   "cell_type": "markdown",
   "id": "f0cf21ee",
   "metadata": {},
   "source": [
    "### Importing the data and obtaining the sizes of the tables"
   ]
  },
  {
   "cell_type": "code",
   "execution_count": 2,
   "id": "14ae6e25",
   "metadata": {},
   "outputs": [
    {
     "name": "stdout",
     "output_type": "stream",
     "text": [
      "size of df_listing_seattle :  (3818, 92)\n",
      "\n",
      "size of df_calendar_seattle :  (1393570, 4)\n",
      "\n",
      "size of df_reviews_seattle :  (84849, 6)\n"
     ]
    }
   ],
   "source": [
    "df_calendar_seattle=pd.read_csv('./archive_seatle/calendar.csv')\n",
    "df_listing_seattle=pd.read_csv('./archive_seatle/listings.csv')\n",
    "df_reviews_seattle=pd.read_csv('./archive_seatle/reviews.csv')\n",
    "\n",
    "print(\"size of df_listing_seattle : \", df_listing_seattle.shape)\n",
    "print()\n",
    "print(\"size of df_calendar_seattle : \", df_calendar_seattle.shape)\n",
    "print()\n",
    "print(\"size of df_reviews_seattle : \", df_reviews_seattle.shape)"
   ]
  },
  {
   "cell_type": "markdown",
   "id": "593b8465",
   "metadata": {},
   "source": [
    "#### Understanding listings.csv"
   ]
  },
  {
   "cell_type": "code",
   "execution_count": 3,
   "id": "bd6eed76",
   "metadata": {},
   "outputs": [
    {
     "name": "stdout",
     "output_type": "stream",
     "text": [
      "listings.csv has 3818 rows and 92 columns\n"
     ]
    }
   ],
   "source": [
    "print(\"listings.csv has {} rows and {} columns\".format(df_listing_seattle.shape[0], df_listing_seattle.shape[1]))"
   ]
  },
  {
   "cell_type": "code",
   "execution_count": 4,
   "id": "f05480e0",
   "metadata": {},
   "outputs": [
    {
     "data": {
      "text/html": [
       "<div>\n",
       "<style scoped>\n",
       "    .dataframe tbody tr th:only-of-type {\n",
       "        vertical-align: middle;\n",
       "    }\n",
       "\n",
       "    .dataframe tbody tr th {\n",
       "        vertical-align: top;\n",
       "    }\n",
       "\n",
       "    .dataframe thead th {\n",
       "        text-align: right;\n",
       "    }\n",
       "</style>\n",
       "<table border=\"1\" class=\"dataframe\">\n",
       "  <thead>\n",
       "    <tr style=\"text-align: right;\">\n",
       "      <th></th>\n",
       "      <th>id</th>\n",
       "      <th>listing_url</th>\n",
       "      <th>scrape_id</th>\n",
       "      <th>last_scraped</th>\n",
       "      <th>name</th>\n",
       "      <th>summary</th>\n",
       "      <th>space</th>\n",
       "      <th>description</th>\n",
       "      <th>experiences_offered</th>\n",
       "      <th>neighborhood_overview</th>\n",
       "      <th>...</th>\n",
       "      <th>review_scores_value</th>\n",
       "      <th>requires_license</th>\n",
       "      <th>license</th>\n",
       "      <th>jurisdiction_names</th>\n",
       "      <th>instant_bookable</th>\n",
       "      <th>cancellation_policy</th>\n",
       "      <th>require_guest_profile_picture</th>\n",
       "      <th>require_guest_phone_verification</th>\n",
       "      <th>calculated_host_listings_count</th>\n",
       "      <th>reviews_per_month</th>\n",
       "    </tr>\n",
       "  </thead>\n",
       "  <tbody>\n",
       "    <tr>\n",
       "      <th>0</th>\n",
       "      <td>241032</td>\n",
       "      <td>https://www.airbnb.com/rooms/241032</td>\n",
       "      <td>20160104002432</td>\n",
       "      <td>2016-01-04</td>\n",
       "      <td>Stylish Queen Anne Apartment</td>\n",
       "      <td>NaN</td>\n",
       "      <td>Make your self at home in this charming one-be...</td>\n",
       "      <td>Make your self at home in this charming one-be...</td>\n",
       "      <td>none</td>\n",
       "      <td>NaN</td>\n",
       "      <td>...</td>\n",
       "      <td>10.0</td>\n",
       "      <td>f</td>\n",
       "      <td>NaN</td>\n",
       "      <td>WASHINGTON</td>\n",
       "      <td>f</td>\n",
       "      <td>moderate</td>\n",
       "      <td>f</td>\n",
       "      <td>f</td>\n",
       "      <td>2</td>\n",
       "      <td>4.07</td>\n",
       "    </tr>\n",
       "    <tr>\n",
       "      <th>1</th>\n",
       "      <td>953595</td>\n",
       "      <td>https://www.airbnb.com/rooms/953595</td>\n",
       "      <td>20160104002432</td>\n",
       "      <td>2016-01-04</td>\n",
       "      <td>Bright &amp; Airy Queen Anne Apartment</td>\n",
       "      <td>Chemically sensitive? We've removed the irrita...</td>\n",
       "      <td>Beautiful, hypoallergenic apartment in an extr...</td>\n",
       "      <td>Chemically sensitive? We've removed the irrita...</td>\n",
       "      <td>none</td>\n",
       "      <td>Queen Anne is a wonderful, truly functional vi...</td>\n",
       "      <td>...</td>\n",
       "      <td>10.0</td>\n",
       "      <td>f</td>\n",
       "      <td>NaN</td>\n",
       "      <td>WASHINGTON</td>\n",
       "      <td>f</td>\n",
       "      <td>strict</td>\n",
       "      <td>t</td>\n",
       "      <td>t</td>\n",
       "      <td>6</td>\n",
       "      <td>1.48</td>\n",
       "    </tr>\n",
       "    <tr>\n",
       "      <th>2</th>\n",
       "      <td>3308979</td>\n",
       "      <td>https://www.airbnb.com/rooms/3308979</td>\n",
       "      <td>20160104002432</td>\n",
       "      <td>2016-01-04</td>\n",
       "      <td>New Modern House-Amazing water view</td>\n",
       "      <td>New modern house built in 2013.  Spectacular s...</td>\n",
       "      <td>Our house is modern, light and fresh with a wa...</td>\n",
       "      <td>New modern house built in 2013.  Spectacular s...</td>\n",
       "      <td>none</td>\n",
       "      <td>Upper Queen Anne is a charming neighborhood fu...</td>\n",
       "      <td>...</td>\n",
       "      <td>10.0</td>\n",
       "      <td>f</td>\n",
       "      <td>NaN</td>\n",
       "      <td>WASHINGTON</td>\n",
       "      <td>f</td>\n",
       "      <td>strict</td>\n",
       "      <td>f</td>\n",
       "      <td>f</td>\n",
       "      <td>2</td>\n",
       "      <td>1.15</td>\n",
       "    </tr>\n",
       "    <tr>\n",
       "      <th>3</th>\n",
       "      <td>7421966</td>\n",
       "      <td>https://www.airbnb.com/rooms/7421966</td>\n",
       "      <td>20160104002432</td>\n",
       "      <td>2016-01-04</td>\n",
       "      <td>Queen Anne Chateau</td>\n",
       "      <td>A charming apartment that sits atop Queen Anne...</td>\n",
       "      <td>NaN</td>\n",
       "      <td>A charming apartment that sits atop Queen Anne...</td>\n",
       "      <td>none</td>\n",
       "      <td>NaN</td>\n",
       "      <td>...</td>\n",
       "      <td>NaN</td>\n",
       "      <td>f</td>\n",
       "      <td>NaN</td>\n",
       "      <td>WASHINGTON</td>\n",
       "      <td>f</td>\n",
       "      <td>flexible</td>\n",
       "      <td>f</td>\n",
       "      <td>f</td>\n",
       "      <td>1</td>\n",
       "      <td>NaN</td>\n",
       "    </tr>\n",
       "    <tr>\n",
       "      <th>4</th>\n",
       "      <td>278830</td>\n",
       "      <td>https://www.airbnb.com/rooms/278830</td>\n",
       "      <td>20160104002432</td>\n",
       "      <td>2016-01-04</td>\n",
       "      <td>Charming craftsman 3 bdm house</td>\n",
       "      <td>Cozy family craftman house in beautiful neighb...</td>\n",
       "      <td>Cozy family craftman house in beautiful neighb...</td>\n",
       "      <td>Cozy family craftman house in beautiful neighb...</td>\n",
       "      <td>none</td>\n",
       "      <td>We are in the beautiful neighborhood of Queen ...</td>\n",
       "      <td>...</td>\n",
       "      <td>9.0</td>\n",
       "      <td>f</td>\n",
       "      <td>NaN</td>\n",
       "      <td>WASHINGTON</td>\n",
       "      <td>f</td>\n",
       "      <td>strict</td>\n",
       "      <td>f</td>\n",
       "      <td>f</td>\n",
       "      <td>1</td>\n",
       "      <td>0.89</td>\n",
       "    </tr>\n",
       "  </tbody>\n",
       "</table>\n",
       "<p>5 rows × 92 columns</p>\n",
       "</div>"
      ],
      "text/plain": [
       "        id                           listing_url       scrape_id last_scraped  \\\n",
       "0   241032   https://www.airbnb.com/rooms/241032  20160104002432   2016-01-04   \n",
       "1   953595   https://www.airbnb.com/rooms/953595  20160104002432   2016-01-04   \n",
       "2  3308979  https://www.airbnb.com/rooms/3308979  20160104002432   2016-01-04   \n",
       "3  7421966  https://www.airbnb.com/rooms/7421966  20160104002432   2016-01-04   \n",
       "4   278830   https://www.airbnb.com/rooms/278830  20160104002432   2016-01-04   \n",
       "\n",
       "                                  name  \\\n",
       "0         Stylish Queen Anne Apartment   \n",
       "1   Bright & Airy Queen Anne Apartment   \n",
       "2  New Modern House-Amazing water view   \n",
       "3                   Queen Anne Chateau   \n",
       "4       Charming craftsman 3 bdm house   \n",
       "\n",
       "                                             summary  \\\n",
       "0                                                NaN   \n",
       "1  Chemically sensitive? We've removed the irrita...   \n",
       "2  New modern house built in 2013.  Spectacular s...   \n",
       "3  A charming apartment that sits atop Queen Anne...   \n",
       "4  Cozy family craftman house in beautiful neighb...   \n",
       "\n",
       "                                               space  \\\n",
       "0  Make your self at home in this charming one-be...   \n",
       "1  Beautiful, hypoallergenic apartment in an extr...   \n",
       "2  Our house is modern, light and fresh with a wa...   \n",
       "3                                                NaN   \n",
       "4  Cozy family craftman house in beautiful neighb...   \n",
       "\n",
       "                                         description experiences_offered  \\\n",
       "0  Make your self at home in this charming one-be...                none   \n",
       "1  Chemically sensitive? We've removed the irrita...                none   \n",
       "2  New modern house built in 2013.  Spectacular s...                none   \n",
       "3  A charming apartment that sits atop Queen Anne...                none   \n",
       "4  Cozy family craftman house in beautiful neighb...                none   \n",
       "\n",
       "                               neighborhood_overview  ... review_scores_value  \\\n",
       "0                                                NaN  ...                10.0   \n",
       "1  Queen Anne is a wonderful, truly functional vi...  ...                10.0   \n",
       "2  Upper Queen Anne is a charming neighborhood fu...  ...                10.0   \n",
       "3                                                NaN  ...                 NaN   \n",
       "4  We are in the beautiful neighborhood of Queen ...  ...                 9.0   \n",
       "\n",
       "  requires_license license jurisdiction_names instant_bookable  \\\n",
       "0                f     NaN         WASHINGTON                f   \n",
       "1                f     NaN         WASHINGTON                f   \n",
       "2                f     NaN         WASHINGTON                f   \n",
       "3                f     NaN         WASHINGTON                f   \n",
       "4                f     NaN         WASHINGTON                f   \n",
       "\n",
       "  cancellation_policy  require_guest_profile_picture  \\\n",
       "0            moderate                              f   \n",
       "1              strict                              t   \n",
       "2              strict                              f   \n",
       "3            flexible                              f   \n",
       "4              strict                              f   \n",
       "\n",
       "  require_guest_phone_verification calculated_host_listings_count  \\\n",
       "0                                f                              2   \n",
       "1                                t                              6   \n",
       "2                                f                              2   \n",
       "3                                f                              1   \n",
       "4                                f                              1   \n",
       "\n",
       "  reviews_per_month  \n",
       "0              4.07  \n",
       "1              1.48  \n",
       "2              1.15  \n",
       "3               NaN  \n",
       "4              0.89  \n",
       "\n",
       "[5 rows x 92 columns]"
      ]
     },
     "execution_count": 4,
     "metadata": {},
     "output_type": "execute_result"
    }
   ],
   "source": [
    "# Understanding the head of listings.csv\n",
    "df_listing_seattle.head()"
   ]
  },
  {
   "cell_type": "code",
   "execution_count": 5,
   "id": "0ee25d5e",
   "metadata": {},
   "outputs": [
    {
     "name": "stdout",
     "output_type": "stream",
     "text": [
      "<class 'pandas.core.frame.DataFrame'>\n",
      "RangeIndex: 3818 entries, 0 to 3817\n",
      "Data columns (total 92 columns):\n",
      " #   Column                            Non-Null Count  Dtype  \n",
      "---  ------                            --------------  -----  \n",
      " 0   id                                3818 non-null   int64  \n",
      " 1   listing_url                       3818 non-null   object \n",
      " 2   scrape_id                         3818 non-null   int64  \n",
      " 3   last_scraped                      3818 non-null   object \n",
      " 4   name                              3818 non-null   object \n",
      " 5   summary                           3641 non-null   object \n",
      " 6   space                             3249 non-null   object \n",
      " 7   description                       3818 non-null   object \n",
      " 8   experiences_offered               3818 non-null   object \n",
      " 9   neighborhood_overview             2786 non-null   object \n",
      " 10  notes                             2212 non-null   object \n",
      " 11  transit                           2884 non-null   object \n",
      " 12  thumbnail_url                     3498 non-null   object \n",
      " 13  medium_url                        3498 non-null   object \n",
      " 14  picture_url                       3818 non-null   object \n",
      " 15  xl_picture_url                    3498 non-null   object \n",
      " 16  host_id                           3818 non-null   int64  \n",
      " 17  host_url                          3818 non-null   object \n",
      " 18  host_name                         3816 non-null   object \n",
      " 19  host_since                        3816 non-null   object \n",
      " 20  host_location                     3810 non-null   object \n",
      " 21  host_about                        2959 non-null   object \n",
      " 22  host_response_time                3295 non-null   object \n",
      " 23  host_response_rate                3295 non-null   object \n",
      " 24  host_acceptance_rate              3045 non-null   object \n",
      " 25  host_is_superhost                 3816 non-null   object \n",
      " 26  host_thumbnail_url                3816 non-null   object \n",
      " 27  host_picture_url                  3816 non-null   object \n",
      " 28  host_neighbourhood                3518 non-null   object \n",
      " 29  host_listings_count               3816 non-null   float64\n",
      " 30  host_total_listings_count         3816 non-null   float64\n",
      " 31  host_verifications                3818 non-null   object \n",
      " 32  host_has_profile_pic              3816 non-null   object \n",
      " 33  host_identity_verified            3816 non-null   object \n",
      " 34  street                            3818 non-null   object \n",
      " 35  neighbourhood                     3402 non-null   object \n",
      " 36  neighbourhood_cleansed            3818 non-null   object \n",
      " 37  neighbourhood_group_cleansed      3818 non-null   object \n",
      " 38  city                              3818 non-null   object \n",
      " 39  state                             3818 non-null   object \n",
      " 40  zipcode                           3811 non-null   object \n",
      " 41  market                            3818 non-null   object \n",
      " 42  smart_location                    3818 non-null   object \n",
      " 43  country_code                      3818 non-null   object \n",
      " 44  country                           3818 non-null   object \n",
      " 45  latitude                          3818 non-null   float64\n",
      " 46  longitude                         3818 non-null   float64\n",
      " 47  is_location_exact                 3818 non-null   object \n",
      " 48  property_type                     3817 non-null   object \n",
      " 49  room_type                         3818 non-null   object \n",
      " 50  accommodates                      3818 non-null   int64  \n",
      " 51  bathrooms                         3802 non-null   float64\n",
      " 52  bedrooms                          3812 non-null   float64\n",
      " 53  beds                              3817 non-null   float64\n",
      " 54  bed_type                          3818 non-null   object \n",
      " 55  amenities                         3818 non-null   object \n",
      " 56  square_feet                       97 non-null     float64\n",
      " 57  price                             3818 non-null   object \n",
      " 58  weekly_price                      2009 non-null   object \n",
      " 59  monthly_price                     1517 non-null   object \n",
      " 60  security_deposit                  1866 non-null   object \n",
      " 61  cleaning_fee                      2788 non-null   object \n",
      " 62  guests_included                   3818 non-null   int64  \n",
      " 63  extra_people                      3818 non-null   object \n",
      " 64  minimum_nights                    3818 non-null   int64  \n",
      " 65  maximum_nights                    3818 non-null   int64  \n",
      " 66  calendar_updated                  3818 non-null   object \n",
      " 67  has_availability                  3818 non-null   object \n",
      " 68  availability_30                   3818 non-null   int64  \n",
      " 69  availability_60                   3818 non-null   int64  \n",
      " 70  availability_90                   3818 non-null   int64  \n",
      " 71  availability_365                  3818 non-null   int64  \n",
      " 72  calendar_last_scraped             3818 non-null   object \n",
      " 73  number_of_reviews                 3818 non-null   int64  \n",
      " 74  first_review                      3191 non-null   object \n",
      " 75  last_review                       3191 non-null   object \n",
      " 76  review_scores_rating              3171 non-null   float64\n",
      " 77  review_scores_accuracy            3160 non-null   float64\n",
      " 78  review_scores_cleanliness         3165 non-null   float64\n",
      " 79  review_scores_checkin             3160 non-null   float64\n",
      " 80  review_scores_communication       3167 non-null   float64\n",
      " 81  review_scores_location            3163 non-null   float64\n",
      " 82  review_scores_value               3162 non-null   float64\n",
      " 83  requires_license                  3818 non-null   object \n",
      " 84  license                           0 non-null      float64\n",
      " 85  jurisdiction_names                3818 non-null   object \n",
      " 86  instant_bookable                  3818 non-null   object \n",
      " 87  cancellation_policy               3818 non-null   object \n",
      " 88  require_guest_profile_picture     3818 non-null   object \n",
      " 89  require_guest_phone_verification  3818 non-null   object \n",
      " 90  calculated_host_listings_count    3818 non-null   int64  \n",
      " 91  reviews_per_month                 3191 non-null   float64\n",
      "dtypes: float64(17), int64(13), object(62)\n",
      "memory usage: 2.7+ MB\n"
     ]
    }
   ],
   "source": [
    "df_listing_seattle.info()"
   ]
  },
  {
   "cell_type": "code",
   "execution_count": 6,
   "id": "17945ac0",
   "metadata": {},
   "outputs": [
    {
     "name": "stdout",
     "output_type": "stream",
     "text": [
      "30\n"
     ]
    },
    {
     "data": {
      "text/plain": [
       "Index(['id', 'scrape_id', 'host_id', 'host_listings_count',\n",
       "       'host_total_listings_count', 'latitude', 'longitude', 'accommodates',\n",
       "       'bathrooms', 'bedrooms', 'beds', 'square_feet', 'guests_included',\n",
       "       'minimum_nights', 'maximum_nights', 'availability_30',\n",
       "       'availability_60', 'availability_90', 'availability_365',\n",
       "       'number_of_reviews', 'review_scores_rating', 'review_scores_accuracy',\n",
       "       'review_scores_cleanliness', 'review_scores_checkin',\n",
       "       'review_scores_communication', 'review_scores_location',\n",
       "       'review_scores_value', 'license', 'calculated_host_listings_count',\n",
       "       'reviews_per_month'],\n",
       "      dtype='object')"
      ]
     },
     "execution_count": 6,
     "metadata": {},
     "output_type": "execute_result"
    }
   ],
   "source": [
    "# Finding quantitative columns for listings.csv\n",
    "num_vars_listing_seattle = df_listing_seattle.select_dtypes(include=['float', 'int']).columns\n",
    "print(len(num_vars_listing_seattle))\n",
    "num_vars_listing_seattle"
   ]
  },
  {
   "cell_type": "code",
   "execution_count": 7,
   "id": "e7c70d36",
   "metadata": {},
   "outputs": [
    {
     "name": "stdout",
     "output_type": "stream",
     "text": [
      "62\n"
     ]
    },
    {
     "data": {
      "text/plain": [
       "Index(['listing_url', 'last_scraped', 'name', 'summary', 'space',\n",
       "       'description', 'experiences_offered', 'neighborhood_overview', 'notes',\n",
       "       'transit', 'thumbnail_url', 'medium_url', 'picture_url',\n",
       "       'xl_picture_url', 'host_url', 'host_name', 'host_since',\n",
       "       'host_location', 'host_about', 'host_response_time',\n",
       "       'host_response_rate', 'host_acceptance_rate', 'host_is_superhost',\n",
       "       'host_thumbnail_url', 'host_picture_url', 'host_neighbourhood',\n",
       "       'host_verifications', 'host_has_profile_pic', 'host_identity_verified',\n",
       "       'street', 'neighbourhood', 'neighbourhood_cleansed',\n",
       "       'neighbourhood_group_cleansed', 'city', 'state', 'zipcode', 'market',\n",
       "       'smart_location', 'country_code', 'country', 'is_location_exact',\n",
       "       'property_type', 'room_type', 'bed_type', 'amenities', 'price',\n",
       "       'weekly_price', 'monthly_price', 'security_deposit', 'cleaning_fee',\n",
       "       'extra_people', 'calendar_updated', 'has_availability',\n",
       "       'calendar_last_scraped', 'first_review', 'last_review',\n",
       "       'requires_license', 'jurisdiction_names', 'instant_bookable',\n",
       "       'cancellation_policy', 'require_guest_profile_picture',\n",
       "       'require_guest_phone_verification'],\n",
       "      dtype='object')"
      ]
     },
     "execution_count": 7,
     "metadata": {},
     "output_type": "execute_result"
    }
   ],
   "source": [
    "# Finding categorical columns for listings.csv\n",
    "cat_vars_listing_seattle = df_listing_seattle.select_dtypes(include=['object']).columns\n",
    "print(len(cat_vars_listing_seattle))\n",
    "cat_vars_listing_seattle"
   ]
  },
  {
   "cell_type": "markdown",
   "id": "48578baf",
   "metadata": {},
   "source": [
    "#### Understanding calendar.csv"
   ]
  },
  {
   "cell_type": "code",
   "execution_count": 8,
   "id": "b107bf53",
   "metadata": {},
   "outputs": [
    {
     "name": "stdout",
     "output_type": "stream",
     "text": [
      "calendar.csv has 1393570 rows and 4 columns\n"
     ]
    }
   ],
   "source": [
    "print(\"calendar.csv has {} rows and {} columns\".format(df_calendar_seattle.shape[0], df_calendar_seattle.shape[1]))"
   ]
  },
  {
   "cell_type": "code",
   "execution_count": 9,
   "id": "17d47826",
   "metadata": {},
   "outputs": [
    {
     "data": {
      "text/html": [
       "<div>\n",
       "<style scoped>\n",
       "    .dataframe tbody tr th:only-of-type {\n",
       "        vertical-align: middle;\n",
       "    }\n",
       "\n",
       "    .dataframe tbody tr th {\n",
       "        vertical-align: top;\n",
       "    }\n",
       "\n",
       "    .dataframe thead th {\n",
       "        text-align: right;\n",
       "    }\n",
       "</style>\n",
       "<table border=\"1\" class=\"dataframe\">\n",
       "  <thead>\n",
       "    <tr style=\"text-align: right;\">\n",
       "      <th></th>\n",
       "      <th>listing_id</th>\n",
       "      <th>date</th>\n",
       "      <th>available</th>\n",
       "      <th>price</th>\n",
       "    </tr>\n",
       "  </thead>\n",
       "  <tbody>\n",
       "    <tr>\n",
       "      <th>0</th>\n",
       "      <td>241032</td>\n",
       "      <td>2016-01-04</td>\n",
       "      <td>t</td>\n",
       "      <td>$85.00</td>\n",
       "    </tr>\n",
       "    <tr>\n",
       "      <th>1</th>\n",
       "      <td>241032</td>\n",
       "      <td>2016-01-05</td>\n",
       "      <td>t</td>\n",
       "      <td>$85.00</td>\n",
       "    </tr>\n",
       "    <tr>\n",
       "      <th>2</th>\n",
       "      <td>241032</td>\n",
       "      <td>2016-01-06</td>\n",
       "      <td>f</td>\n",
       "      <td>NaN</td>\n",
       "    </tr>\n",
       "    <tr>\n",
       "      <th>3</th>\n",
       "      <td>241032</td>\n",
       "      <td>2016-01-07</td>\n",
       "      <td>f</td>\n",
       "      <td>NaN</td>\n",
       "    </tr>\n",
       "    <tr>\n",
       "      <th>4</th>\n",
       "      <td>241032</td>\n",
       "      <td>2016-01-08</td>\n",
       "      <td>f</td>\n",
       "      <td>NaN</td>\n",
       "    </tr>\n",
       "  </tbody>\n",
       "</table>\n",
       "</div>"
      ],
      "text/plain": [
       "   listing_id        date available   price\n",
       "0      241032  2016-01-04         t  $85.00\n",
       "1      241032  2016-01-05         t  $85.00\n",
       "2      241032  2016-01-06         f     NaN\n",
       "3      241032  2016-01-07         f     NaN\n",
       "4      241032  2016-01-08         f     NaN"
      ]
     },
     "execution_count": 9,
     "metadata": {},
     "output_type": "execute_result"
    }
   ],
   "source": [
    "# Understanding the head of calendar.csv\n",
    "df_calendar_seattle.head()"
   ]
  },
  {
   "cell_type": "code",
   "execution_count": 10,
   "id": "7ad92940",
   "metadata": {},
   "outputs": [
    {
     "name": "stdout",
     "output_type": "stream",
     "text": [
      "<class 'pandas.core.frame.DataFrame'>\n",
      "RangeIndex: 1393570 entries, 0 to 1393569\n",
      "Data columns (total 4 columns):\n",
      " #   Column      Non-Null Count    Dtype \n",
      "---  ------      --------------    ----- \n",
      " 0   listing_id  1393570 non-null  int64 \n",
      " 1   date        1393570 non-null  object\n",
      " 2   available   1393570 non-null  object\n",
      " 3   price       934542 non-null   object\n",
      "dtypes: int64(1), object(3)\n",
      "memory usage: 42.5+ MB\n"
     ]
    }
   ],
   "source": [
    "df_calendar_seattle.info()"
   ]
  },
  {
   "cell_type": "markdown",
   "id": "2c4c3565",
   "metadata": {},
   "source": [
    "#### Understanding reviews.csv"
   ]
  },
  {
   "cell_type": "code",
   "execution_count": 11,
   "id": "301cfc05",
   "metadata": {},
   "outputs": [
    {
     "name": "stdout",
     "output_type": "stream",
     "text": [
      "reviews.csv has 84849 rows and 6 columns\n"
     ]
    }
   ],
   "source": [
    "print(\"reviews.csv has {} rows and {} columns\".format(df_reviews_seattle.shape[0], df_reviews_seattle.shape[1]))"
   ]
  },
  {
   "cell_type": "code",
   "execution_count": 12,
   "id": "d0a7faf4",
   "metadata": {},
   "outputs": [
    {
     "data": {
      "text/html": [
       "<div>\n",
       "<style scoped>\n",
       "    .dataframe tbody tr th:only-of-type {\n",
       "        vertical-align: middle;\n",
       "    }\n",
       "\n",
       "    .dataframe tbody tr th {\n",
       "        vertical-align: top;\n",
       "    }\n",
       "\n",
       "    .dataframe thead th {\n",
       "        text-align: right;\n",
       "    }\n",
       "</style>\n",
       "<table border=\"1\" class=\"dataframe\">\n",
       "  <thead>\n",
       "    <tr style=\"text-align: right;\">\n",
       "      <th></th>\n",
       "      <th>listing_id</th>\n",
       "      <th>id</th>\n",
       "      <th>date</th>\n",
       "      <th>reviewer_id</th>\n",
       "      <th>reviewer_name</th>\n",
       "      <th>comments</th>\n",
       "    </tr>\n",
       "  </thead>\n",
       "  <tbody>\n",
       "    <tr>\n",
       "      <th>0</th>\n",
       "      <td>7202016</td>\n",
       "      <td>38917982</td>\n",
       "      <td>2015-07-19</td>\n",
       "      <td>28943674</td>\n",
       "      <td>Bianca</td>\n",
       "      <td>Cute and cozy place. Perfect location to every...</td>\n",
       "    </tr>\n",
       "    <tr>\n",
       "      <th>1</th>\n",
       "      <td>7202016</td>\n",
       "      <td>39087409</td>\n",
       "      <td>2015-07-20</td>\n",
       "      <td>32440555</td>\n",
       "      <td>Frank</td>\n",
       "      <td>Kelly has a great room in a very central locat...</td>\n",
       "    </tr>\n",
       "    <tr>\n",
       "      <th>2</th>\n",
       "      <td>7202016</td>\n",
       "      <td>39820030</td>\n",
       "      <td>2015-07-26</td>\n",
       "      <td>37722850</td>\n",
       "      <td>Ian</td>\n",
       "      <td>Very spacious apartment, and in a great neighb...</td>\n",
       "    </tr>\n",
       "    <tr>\n",
       "      <th>3</th>\n",
       "      <td>7202016</td>\n",
       "      <td>40813543</td>\n",
       "      <td>2015-08-02</td>\n",
       "      <td>33671805</td>\n",
       "      <td>George</td>\n",
       "      <td>Close to Seattle Center and all it has to offe...</td>\n",
       "    </tr>\n",
       "    <tr>\n",
       "      <th>4</th>\n",
       "      <td>7202016</td>\n",
       "      <td>41986501</td>\n",
       "      <td>2015-08-10</td>\n",
       "      <td>34959538</td>\n",
       "      <td>Ming</td>\n",
       "      <td>Kelly was a great host and very accommodating ...</td>\n",
       "    </tr>\n",
       "  </tbody>\n",
       "</table>\n",
       "</div>"
      ],
      "text/plain": [
       "   listing_id        id        date  reviewer_id reviewer_name  \\\n",
       "0     7202016  38917982  2015-07-19     28943674        Bianca   \n",
       "1     7202016  39087409  2015-07-20     32440555         Frank   \n",
       "2     7202016  39820030  2015-07-26     37722850           Ian   \n",
       "3     7202016  40813543  2015-08-02     33671805        George   \n",
       "4     7202016  41986501  2015-08-10     34959538          Ming   \n",
       "\n",
       "                                            comments  \n",
       "0  Cute and cozy place. Perfect location to every...  \n",
       "1  Kelly has a great room in a very central locat...  \n",
       "2  Very spacious apartment, and in a great neighb...  \n",
       "3  Close to Seattle Center and all it has to offe...  \n",
       "4  Kelly was a great host and very accommodating ...  "
      ]
     },
     "execution_count": 12,
     "metadata": {},
     "output_type": "execute_result"
    }
   ],
   "source": [
    "# Understanding df_reviews_seattle head\n",
    "df_reviews_seattle.head()"
   ]
  },
  {
   "cell_type": "code",
   "execution_count": 13,
   "id": "99006c25",
   "metadata": {},
   "outputs": [
    {
     "name": "stdout",
     "output_type": "stream",
     "text": [
      "<class 'pandas.core.frame.DataFrame'>\n",
      "RangeIndex: 84849 entries, 0 to 84848\n",
      "Data columns (total 6 columns):\n",
      " #   Column         Non-Null Count  Dtype \n",
      "---  ------         --------------  ----- \n",
      " 0   listing_id     84849 non-null  int64 \n",
      " 1   id             84849 non-null  int64 \n",
      " 2   date           84849 non-null  object\n",
      " 3   reviewer_id    84849 non-null  int64 \n",
      " 4   reviewer_name  84849 non-null  object\n",
      " 5   comments       84831 non-null  object\n",
      "dtypes: int64(3), object(3)\n",
      "memory usage: 3.9+ MB\n"
     ]
    }
   ],
   "source": [
    "df_reviews_seattle.info()"
   ]
  },
  {
   "cell_type": "markdown",
   "id": "ac949afd",
   "metadata": {},
   "source": [
    "# Data Preparation\n",
    "In this part, we clean, analyze, and visualize the data. "
   ]
  },
  {
   "cell_type": "code",
   "execution_count": 14,
   "id": "bedaa68f",
   "metadata": {},
   "outputs": [
    {
     "data": {
      "text/plain": [
       "['square_feet', 'license']"
      ]
     },
     "execution_count": 14,
     "metadata": {},
     "output_type": "execute_result"
    }
   ],
   "source": [
    "# finding columns with a lot of NaN values\n",
    "seattle_listing_most_missing_cols = list(df_listing_seattle.columns[df_listing_seattle.isnull().mean() > 0.75])\n",
    "seattle_listing_most_missing_cols"
   ]
  },
  {
   "cell_type": "code",
   "execution_count": 15,
   "id": "0ead0ca4",
   "metadata": {},
   "outputs": [
    {
     "data": {
      "text/plain": [
       "(3818, 90)"
      ]
     },
     "execution_count": 15,
     "metadata": {},
     "output_type": "execute_result"
    }
   ],
   "source": [
    "# droping columns with a lot of NaN values\n",
    "df_listing_seattle.drop(seattle_listing_most_missing_cols, inplace = True, axis = 1)\n",
    "df_listing_seattle.shape"
   ]
  },
  {
   "cell_type": "markdown",
   "id": "3a14bebb",
   "metadata": {},
   "source": [
    "Now, we visualize the histograms of the property type, availabilities, reviews, and room types."
   ]
  },
  {
   "cell_type": "code",
   "execution_count": 16,
   "id": "38569bd5",
   "metadata": {},
   "outputs": [
    {
     "data": {
      "image/png": "[encoded data removed]",
      "text/plain": [
       "<Figure size 640x480 with 4 Axes>"
      ]
     },
     "metadata": {},
     "output_type": "display_data"
    },
    {
     "data": {
      "image/png": "[encoded data removed]",
      "text/plain": [
       "<Figure size 640x480 with 2 Axes>"
      ]
     },
     "metadata": {},
     "output_type": "display_data"
    }
   ],
   "source": [
    "# Number of people accommodating, bathrooms, bedrooms, beds, and guests_included\n",
    "df_listing_seattle[['accommodates', 'bathrooms', 'bedrooms']].hist();\n",
    "df_listing_seattle[['beds', 'guests_included']].hist();"
   ]
  },
  {
   "cell_type": "code",
   "execution_count": 17,
   "id": "ad8b5112",
   "metadata": {},
   "outputs": [
    {
     "data": {
      "image/png": "[encoded data removed]",
      "text/plain": [
       "<Figure size 640x480 with 4 Axes>"
      ]
     },
     "metadata": {},
     "output_type": "display_data"
    }
   ],
   "source": [
    "df_listing_seattle[['availability_30', 'availability_60','availability_90', 'availability_365']].hist();"
   ]
  },
  {
   "cell_type": "code",
   "execution_count": 18,
   "id": "3a500ae1",
   "metadata": {},
   "outputs": [
    {
     "data": {
      "image/png": "[encoded data removed]",
      "text/plain": [
       "<Figure size 640x480 with 4 Axes>"
      ]
     },
     "metadata": {},
     "output_type": "display_data"
    },
    {
     "data": {
      "image/png": "[encoded data removed]",
      "text/plain": [
       "<Figure size 640x480 with 4 Axes>"
      ]
     },
     "metadata": {},
     "output_type": "display_data"
    }
   ],
   "source": [
    "# reviews histograms\n",
    "df_listing_seattle[['review_scores_accuracy',\n",
    "       'review_scores_cleanliness', 'review_scores_checkin']].hist();\n",
    "df_listing_seattle[['review_scores_communication', 'review_scores_location',\n",
    "       'review_scores_value']].hist();"
   ]
  },
  {
   "cell_type": "code",
   "execution_count": 19,
   "id": "ea712924",
   "metadata": {},
   "outputs": [
    {
     "data": {
      "text/plain": [
       "16"
      ]
     },
     "execution_count": 19,
     "metadata": {},
     "output_type": "execute_result"
    }
   ],
   "source": [
    "# number of unique property_type \n",
    "df_listing_seattle['property_type'].nunique()"
   ]
  },
  {
   "cell_type": "code",
   "execution_count": 20,
   "id": "2a8ad77c",
   "metadata": {},
   "outputs": [
    {
     "data": {
      "text/plain": [
       "count      3817\n",
       "unique       16\n",
       "top       House\n",
       "freq       1733\n",
       "Name: property_type, dtype: object"
      ]
     },
     "execution_count": 20,
     "metadata": {},
     "output_type": "execute_result"
    }
   ],
   "source": [
    "# property_type statistics\n",
    "df_listing_seattle['property_type'].describe()"
   ]
  },
  {
   "cell_type": "code",
   "execution_count": 21,
   "id": "22771178",
   "metadata": {},
   "outputs": [
    {
     "data": {
      "image/png": "[encoded data removed]",
      "text/plain": [
       "<Figure size 640x480 with 1 Axes>"
      ]
     },
     "metadata": {},
     "output_type": "display_data"
    }
   ],
   "source": [
    "base_color = sb.color_palette()[0];\n",
    "sb.countplot(data=df_listing_seattle, x='property_type', color=base_color);\n",
    "\n",
    "plt.xticks(rotation=90);"
   ]
  },
  {
   "cell_type": "code",
   "execution_count": 22,
   "id": "3646bc17",
   "metadata": {},
   "outputs": [
    {
     "data": {
      "text/plain": [
       "3"
      ]
     },
     "execution_count": 22,
     "metadata": {},
     "output_type": "execute_result"
    }
   ],
   "source": [
    "# number of unique property_type \n",
    "df_listing_seattle['room_type'].nunique()"
   ]
  },
  {
   "cell_type": "code",
   "execution_count": 23,
   "id": "3c2b32b2",
   "metadata": {},
   "outputs": [
    {
     "data": {
      "image/png": "[encoded data removed]",
      "text/plain": [
       "<Figure size 640x480 with 1 Axes>"
      ]
     },
     "metadata": {},
     "output_type": "display_data"
    }
   ],
   "source": [
    "base_color = sb.color_palette()[0];\n",
    "sb.countplot(data=df_listing_seattle, x='room_type', color=base_color);\n",
    "\n",
    "plt.xticks(rotation=90);"
   ]
  },
  {
   "cell_type": "code",
   "execution_count": 24,
   "id": "a93faaf8",
   "metadata": {},
   "outputs": [
    {
     "data": {
      "text/plain": [
       "416"
      ]
     },
     "execution_count": 24,
     "metadata": {},
     "output_type": "execute_result"
    }
   ],
   "source": [
    "# number of non-null neighbourhoods\n",
    "df_listing_seattle['neighbourhood'].isnull().sum()"
   ]
  },
  {
   "cell_type": "markdown",
   "id": "cd5a2371",
   "metadata": {},
   "source": [
    "#### We drop the NaN prices if there is any"
   ]
  },
  {
   "cell_type": "code",
   "execution_count": 25,
   "id": "c4db1739",
   "metadata": {},
   "outputs": [
    {
     "data": {
      "text/plain": [
       "0.0"
      ]
     },
     "execution_count": 25,
     "metadata": {},
     "output_type": "execute_result"
    }
   ],
   "source": [
    "# fraction of NaN prices in listing table\n",
    "df_listing_seattle['price'].isnull().mean()"
   ]
  },
  {
   "cell_type": "code",
   "execution_count": 26,
   "id": "2a8afdb2",
   "metadata": {},
   "outputs": [
    {
     "data": {
      "text/plain": [
       "0.32938998399793334"
      ]
     },
     "execution_count": 26,
     "metadata": {},
     "output_type": "execute_result"
    }
   ],
   "source": [
    "# fraction of NaN prices in calendar table\n",
    "df_calendar_seattle['price'].isnull().mean()"
   ]
  },
  {
   "cell_type": "code",
   "execution_count": 27,
   "id": "2914d18e",
   "metadata": {},
   "outputs": [
    {
     "data": {
      "text/plain": [
       "0.0"
      ]
     },
     "execution_count": 27,
     "metadata": {},
     "output_type": "execute_result"
    }
   ],
   "source": [
    "# Dropping the NaN prices\n",
    "df_calendar_seattle = df_calendar_seattle.dropna(subset=['price'], how='any')\n",
    "df_calendar_seattle['price'].isnull().mean()"
   ]
  },
  {
   "cell_type": "markdown",
   "id": "db1c1568",
   "metadata": {},
   "source": [
    "#### We need to convert the string format of the price column to float."
   ]
  },
  {
   "cell_type": "code",
   "execution_count": 28,
   "id": "4f4f276d",
   "metadata": {},
   "outputs": [],
   "source": [
    "# Converting the price column to float\n",
    "df_listing_seattle['price'] = df_listing_seattle['price'].apply(lambda x: float(x.replace(\"$\", '').replace(\",\", '')))"
   ]
  },
  {
   "cell_type": "code",
   "execution_count": 29,
   "id": "0ff52143",
   "metadata": {},
   "outputs": [],
   "source": [
    "# Converting the price column to float\n",
    "df_calendar_seattle['price'] = df_calendar_seattle['price'].apply(lambda x: float(x.replace(\"$\", '').replace(\",\", '')))"
   ]
  },
  {
   "cell_type": "code",
   "execution_count": 30,
   "id": "2d7b78b8",
   "metadata": {},
   "outputs": [
    {
     "data": {
      "text/plain": [
       "0.10895756940806706"
      ]
     },
     "execution_count": 30,
     "metadata": {},
     "output_type": "execute_result"
    }
   ],
   "source": [
    "# Getting the fraction of NaN value neighbourhoods\n",
    "df_listing_seattle['neighbourhood'].isnull().mean()"
   ]
  },
  {
   "cell_type": "code",
   "execution_count": 31,
   "id": "6fa4e013",
   "metadata": {},
   "outputs": [
    {
     "data": {
      "text/plain": [
       "0.0"
      ]
     },
     "execution_count": 31,
     "metadata": {},
     "output_type": "execute_result"
    }
   ],
   "source": [
    "# Dropping the NaN neighbourhoods\n",
    "df_listing_seattle = df_listing_seattle.dropna(subset=['neighbourhood'], how='any')\n",
    "df_listing_seattle['neighbourhood'].isnull().mean()"
   ]
  },
  {
   "cell_type": "code",
   "execution_count": 32,
   "id": "cc191a88",
   "metadata": {},
   "outputs": [
    {
     "data": {
      "text/plain": [
       "array(['Queen Anne', 'Ballard', 'Phinney Ridge', 'Fremont',\n",
       "       'Lower Queen Anne', 'Westlake', 'Wallingford', 'Green Lake',\n",
       "       'Minor', 'Madrona', 'Harrison/Denny-Blaine', 'Leschi',\n",
       "       'University District', 'Roosevelt', 'Madison Park', 'Capitol Hill',\n",
       "       'Atlantic', 'North Beacon Hill', 'Central Business District',\n",
       "       'Pike Place Market', 'Pike Market', 'Eastlake', 'Portage Bay',\n",
       "       'South Lake Union', 'Magnolia', 'Belltown',\n",
       "       'International District', 'Yesler Terrace', 'First Hill',\n",
       "       'Pioneer Square', 'Gatewood', 'The Junction', 'Arbor Heights',\n",
       "       'Alki', 'North Admiral', 'Crown Hill', 'Genesee', 'Fairmount Park',\n",
       "       'Interbay', 'Industrial District', 'Holly Park',\n",
       "       'South Beacon Hill', 'Greenwood', 'Bitter Lake', 'Fauntleroy',\n",
       "       'Mount Baker', 'Columbia City', 'Seward Park', 'Brighton',\n",
       "       'South Delridge', 'Highland Park', 'High Point', 'View Ridge',\n",
       "       'Windermere', 'Dunlap', 'Rainier Beach', 'North Delridge',\n",
       "       'Maple Leaf', 'Bryant', 'Ravenna', 'Wedgewood', 'Riverview',\n",
       "       'Montlake', 'Broadway', 'Stevens', 'Victory Heights',\n",
       "       'Mathews Beach', 'Cedar Park', 'Meadowbrook', 'Olympic Hills',\n",
       "       'North Beach/Blue Ridge', 'Broadview', 'Haller Lake', 'Pinehurst',\n",
       "       'Licton Springs', 'North College Park', 'Laurelhurst', 'Seaview',\n",
       "       'Georgetown', 'South Park', 'Roxhill'], dtype=object)"
      ]
     },
     "execution_count": 32,
     "metadata": {},
     "output_type": "execute_result"
    }
   ],
   "source": [
    "# Getting the unique neighbourhoods\n",
    "df_listing_seattle['neighbourhood'].unique()"
   ]
  },
  {
   "cell_type": "code",
   "execution_count": 33,
   "id": "2e14c73b",
   "metadata": {},
   "outputs": [
    {
     "data": {
      "text/plain": [
       "0.00021214156914047309"
      ]
     },
     "execution_count": 33,
     "metadata": {},
     "output_type": "execute_result"
    }
   ],
   "source": [
    "# Getting the fraction of NaN comments \n",
    "df_reviews_seattle['comments'].isnull().mean()"
   ]
  },
  {
   "cell_type": "code",
   "execution_count": 34,
   "id": "5754017f",
   "metadata": {},
   "outputs": [
    {
     "data": {
      "text/plain": [
       "0.0"
      ]
     },
     "execution_count": 34,
     "metadata": {},
     "output_type": "execute_result"
    }
   ],
   "source": [
    "# Dropping the NaN comments\n",
    "df_reviews_seattle = df_reviews_seattle.dropna()\n",
    "df_reviews_seattle['comments'].isnull().mean()"
   ]
  },
  {
   "cell_type": "markdown",
   "id": "98951494",
   "metadata": {},
   "source": [
    "# Modeling, Evaluation, and Deployment\n",
    "\n",
    "In this part, we investigte the following specific questions:\n",
    "1. How much Airbnb homes are earning in certain areas? Most and least expensive neighbourhoods\n",
    "2. How much Airbnb homes are earning in certain time frames?\n",
    "3. What are the properties helping to predict price?\n",
    "4. Can we find the lisings with positive and negative reviews?\n",
    "\n",
    "by modeling and evaluating the available data."
   ]
  },
  {
   "cell_type": "markdown",
   "id": "6fe86397",
   "metadata": {},
   "source": [
    "### How much Airbnb homes are earning in certain areas? Most and least expensive neighbourhoods\n",
    "\n",
    "The following analysis shows the neighbourhoods with highest and lowest average prices."
   ]
  },
  {
   "cell_type": "code",
   "execution_count": 35,
   "id": "39451879",
   "metadata": {},
   "outputs": [
    {
     "name": "stderr",
     "output_type": "stream",
     "text": [
      "/var/folders/fw/pd0cqcc90wn3x9y5skbdl_fc0000gn/T/ipykernel_85293/2169015751.py:2: FutureWarning: The default value of numeric_only in DataFrameGroupBy.mean is deprecated. In a future version, numeric_only will default to False. Either specify numeric_only or select only columns which should be valid for the function.\n",
      "  df_listing_seattle_groupded_by_neighbourhood = df_listing_seattle.groupby(['neighbourhood']).mean()['price'].sort_values(ascending = False)\n"
     ]
    },
    {
     "data": {
      "text/plain": [
       "neighbourhood\n",
       "Fairmount Park         370.000000\n",
       "Industrial District    245.000000\n",
       "Portage Bay            241.428571\n",
       "Westlake               197.000000\n",
       "Alki                   196.652174\n",
       "                          ...    \n",
       "Georgetown              77.000000\n",
       "Rainier Beach           76.722222\n",
       "Dunlap                  75.461538\n",
       "Olympic Hills           63.666667\n",
       "Roxhill                 60.000000\n",
       "Name: price, Length: 81, dtype: float64"
      ]
     },
     "execution_count": 35,
     "metadata": {},
     "output_type": "execute_result"
    }
   ],
   "source": [
    "# Generating a sorted list of neighbourhoods in terms of average price pernight from the most expensive to least expensive\n",
    "df_listing_seattle_groupded_by_neighbourhood = df_listing_seattle.groupby(['neighbourhood']).mean()['price'].sort_values(ascending = False)\n",
    "df_listing_seattle_groupded_by_neighbourhood"
   ]
  },
  {
   "cell_type": "markdown",
   "id": "29d70e78",
   "metadata": {},
   "source": [
    "The following bar charts show the 10 most expensive and 10 least expensive neighbourhoods"
   ]
  },
  {
   "cell_type": "code",
   "execution_count": 36,
   "id": "5eb5765c",
   "metadata": {},
   "outputs": [
    {
     "data": {
      "image/png": "[encoded data removed]",
      "text/plain": [
       "<Figure size 640x480 with 1 Axes>"
      ]
     },
     "metadata": {},
     "output_type": "display_data"
    },
    {
     "data": {
      "image/png": "[encoded data removed]",
      "text/plain": [
       "<Figure size 640x480 with 1 Axes>"
      ]
     },
     "metadata": {},
     "output_type": "display_data"
    }
   ],
   "source": [
    "df_listing_seattle_groupded_by_neighbourhood.head(10).plot.bar()\n",
    "\n",
    "plt.show()\n",
    "\n",
    "df_listing_seattle_groupded_by_neighbourhood.tail(10).plot.bar()\n",
    "\n",
    "plt.show()"
   ]
  },
  {
   "cell_type": "markdown",
   "id": "1b8a1e29",
   "metadata": {},
   "source": [
    "The above charts show that the most expensive neighbourhood is Fairmount Park and the cheapest neighbourhood is Roxhill."
   ]
  },
  {
   "cell_type": "markdown",
   "id": "f792868a",
   "metadata": {},
   "source": [
    "### How much Airbnb homes are earning in certain time frames?\n",
    "We first create a data frame grouping listing ids based on date."
   ]
  },
  {
   "cell_type": "code",
   "execution_count": 37,
   "id": "88e71773",
   "metadata": {},
   "outputs": [
    {
     "data": {
      "text/html": [
       "<div>\n",
       "<style scoped>\n",
       "    .dataframe tbody tr th:only-of-type {\n",
       "        vertical-align: middle;\n",
       "    }\n",
       "\n",
       "    .dataframe tbody tr th {\n",
       "        vertical-align: top;\n",
       "    }\n",
       "\n",
       "    .dataframe thead th {\n",
       "        text-align: right;\n",
       "    }\n",
       "</style>\n",
       "<table border=\"1\" class=\"dataframe\">\n",
       "  <thead>\n",
       "    <tr style=\"text-align: right;\">\n",
       "      <th></th>\n",
       "      <th>listing_id</th>\n",
       "      <th>date</th>\n",
       "      <th>available</th>\n",
       "      <th>price</th>\n",
       "    </tr>\n",
       "  </thead>\n",
       "  <tbody>\n",
       "    <tr>\n",
       "      <th>0</th>\n",
       "      <td>241032</td>\n",
       "      <td>2016-01-04</td>\n",
       "      <td>t</td>\n",
       "      <td>85.0</td>\n",
       "    </tr>\n",
       "    <tr>\n",
       "      <th>1</th>\n",
       "      <td>241032</td>\n",
       "      <td>2016-01-05</td>\n",
       "      <td>t</td>\n",
       "      <td>85.0</td>\n",
       "    </tr>\n",
       "    <tr>\n",
       "      <th>9</th>\n",
       "      <td>241032</td>\n",
       "      <td>2016-01-13</td>\n",
       "      <td>t</td>\n",
       "      <td>85.0</td>\n",
       "    </tr>\n",
       "    <tr>\n",
       "      <th>10</th>\n",
       "      <td>241032</td>\n",
       "      <td>2016-01-14</td>\n",
       "      <td>t</td>\n",
       "      <td>85.0</td>\n",
       "    </tr>\n",
       "    <tr>\n",
       "      <th>14</th>\n",
       "      <td>241032</td>\n",
       "      <td>2016-01-18</td>\n",
       "      <td>t</td>\n",
       "      <td>85.0</td>\n",
       "    </tr>\n",
       "    <tr>\n",
       "      <th>...</th>\n",
       "      <td>...</td>\n",
       "      <td>...</td>\n",
       "      <td>...</td>\n",
       "      <td>...</td>\n",
       "    </tr>\n",
       "    <tr>\n",
       "      <th>4753</th>\n",
       "      <td>8889257</td>\n",
       "      <td>2016-01-12</td>\n",
       "      <td>t</td>\n",
       "      <td>98.0</td>\n",
       "    </tr>\n",
       "    <tr>\n",
       "      <th>5113</th>\n",
       "      <td>5680462</td>\n",
       "      <td>2016-01-07</td>\n",
       "      <td>t</td>\n",
       "      <td>399.0</td>\n",
       "    </tr>\n",
       "    <tr>\n",
       "      <th>5114</th>\n",
       "      <td>5680462</td>\n",
       "      <td>2016-01-08</td>\n",
       "      <td>t</td>\n",
       "      <td>399.0</td>\n",
       "    </tr>\n",
       "    <tr>\n",
       "      <th>5128</th>\n",
       "      <td>5680462</td>\n",
       "      <td>2016-01-22</td>\n",
       "      <td>t</td>\n",
       "      <td>549.0</td>\n",
       "    </tr>\n",
       "    <tr>\n",
       "      <th>5129</th>\n",
       "      <td>5680462</td>\n",
       "      <td>2016-01-23</td>\n",
       "      <td>t</td>\n",
       "      <td>549.0</td>\n",
       "    </tr>\n",
       "  </tbody>\n",
       "</table>\n",
       "<p>1825 rows × 4 columns</p>\n",
       "</div>"
      ],
      "text/plain": [
       "      listing_id        date available  price\n",
       "0         241032  2016-01-04         t   85.0\n",
       "1         241032  2016-01-05         t   85.0\n",
       "9         241032  2016-01-13         t   85.0\n",
       "10        241032  2016-01-14         t   85.0\n",
       "14        241032  2016-01-18         t   85.0\n",
       "...          ...         ...       ...    ...\n",
       "4753     8889257  2016-01-12         t   98.0\n",
       "5113     5680462  2016-01-07         t  399.0\n",
       "5114     5680462  2016-01-08         t  399.0\n",
       "5128     5680462  2016-01-22         t  549.0\n",
       "5129     5680462  2016-01-23         t  549.0\n",
       "\n",
       "[1825 rows x 4 columns]"
      ]
     },
     "execution_count": 37,
     "metadata": {},
     "output_type": "execute_result"
    }
   ],
   "source": [
    "df_calendar_seattle_groupded_by_date = df_calendar_seattle.groupby('date')\n",
    "df_calendar_seattle_groupded_by_date.head()"
   ]
  },
  {
   "cell_type": "code",
   "execution_count": 38,
   "id": "3086c6f0",
   "metadata": {},
   "outputs": [],
   "source": [
    "from datetime import date, timedelta\n",
    "\n",
    "def daterange(start_date, end_date):\n",
    "    '''\n",
    "    INPUT\n",
    "    start_date - python date object \n",
    "    end_date - python date object\n",
    "    \n",
    "    This function generates all the dates between the start_date and the end_date day after day\n",
    "    '''\n",
    "    for n in range(int((end_date - start_date).days)):\n",
    "        yield start_date + timedelta(n)\n",
    "\n",
    "# start_date = date(2013, 1, 1)\n",
    "# end_date = date(2015, 6, 2)\n",
    "# for single_date in daterange(start_date, end_date):\n",
    "#     date_str_format = single_date.strftime(\"%Y-%m-%d\")\n",
    "#     print(date_str_format)"
   ]
  },
  {
   "cell_type": "markdown",
   "id": "b7f09427",
   "metadata": {},
   "source": [
    "Given the start_date and the end_date, we compute the revenue obtained for each month in that time frame using the function below. The data contains the prices ONLY for 2016. The bar chart below shows the revenue obtained for each month."
   ]
  },
  {
   "cell_type": "code",
   "execution_count": 39,
   "id": "9dbb7ddd",
   "metadata": {},
   "outputs": [
    {
     "data": {
      "image/png": "[encoded data removed]",
      "text/plain": [
       "<Figure size 640x480 with 1 Axes>"
      ]
     },
     "metadata": {},
     "output_type": "display_data"
    }
   ],
   "source": [
    "import re\n",
    "\n",
    "# returns revenue earned by airbnb listing between the start_date to and not including the end_date\n",
    "def get_airbnb_revenue(start_date, end_date):\n",
    "    '''\n",
    "    INPUT\n",
    "     start_date - start date in string format\n",
    "     end_date - end date in string format\n",
    "    \n",
    "    OUTPUT\n",
    "    revenue_in_USD - revenue obtained in float\n",
    "    \n",
    "    This function computes the revenue obtained between the start_date and the end_date in USD.\n",
    "    '''\n",
    "    missing_records = []\n",
    "    revenue_in_USD = 0\n",
    "    for single_date in daterange(start_date, end_date):\n",
    "        date_str_format = single_date.strftime(\"%Y-%m-%d\")\n",
    "        try:\n",
    "            df_calendar_date_seattle = df_calendar_seattle_groupded_by_date.get_group(date_str_format)\n",
    "            for index, row in df_calendar_date_seattle.iterrows():\n",
    "                price = row['price']\n",
    "                revenue_in_USD += price\n",
    "        except:\n",
    "            missing_records.append(date_str_format)\n",
    "        finally:\n",
    "            continue\n",
    "    if len(missing_records) > 0:\n",
    "        print(\"There is no record for these dates : \", missing_records)\n",
    "    \n",
    "    return revenue_in_USD\n",
    "\n",
    "# start_date = date(2013, 1, 4)\n",
    "# end_date = date(2016, 1, 5)\n",
    "# print(\"The total earnings between {} and {} is\".format(start_date, end_date), get_airbnb_revenue(start_date, end_date))\n",
    "\n",
    "# start_date = date(2016, 1, 4)\n",
    "# end_date = date(2017, 1, 3)\n",
    "# print(\"The total earnings between {} and {} is\".format(start_date, end_date), get_airbnb_revenue(start_date, end_date))\n",
    "\n",
    "'''\n",
    "We create the bar charts for the revenue throughout 2016\n",
    "'''\n",
    "revenues_in_USD = []\n",
    "for i in range(1, 12):\n",
    "    start_date = date(2016, i, 4)\n",
    "    end_date = date(2016, i + 1, 3)\n",
    "    revenues_in_USD.append(get_airbnb_revenue(start_date, end_date))\n",
    "\n",
    "start_date = date(2016, 12, 4)\n",
    "end_date = date(2017, 1, 3)\n",
    "revenues_in_USD.append(get_airbnb_revenue(start_date, end_date))\n",
    "\n",
    "month_to_revenue_in_USD = {\n",
    "    'January' : revenues_in_USD[0],\n",
    "    'Febreuary' : revenues_in_USD[1],\n",
    "    'March' : revenues_in_USD[2],\n",
    "    'April' : revenues_in_USD[3],\n",
    "    'May' : revenues_in_USD[4],\n",
    "    'June' : revenues_in_USD[5],\n",
    "    'July' : revenues_in_USD[6],\n",
    "    'August' : revenues_in_USD[7],\n",
    "    'September' : revenues_in_USD[8],\n",
    "    'October' : revenues_in_USD[9],\n",
    "    'November' : revenues_in_USD[10],\n",
    "    'December' : revenues_in_USD[11],\n",
    "}\n",
    "\n",
    "months = list(month_to_revenue_in_USD.keys())\n",
    "revenues = list(month_to_revenue_in_USD.values())\n",
    "\n",
    "plt.bar(range(len(month_to_revenue_in_USD)), revenues, tick_label=months)\n",
    "\n",
    "plt.xticks(rotation=90);\n",
    "\n",
    "plt.xlabel(\"Months of 2016 \")\n",
    "plt.ylabel(\"Revenue in USD\")\n",
    "\n",
    "plt.show()"
   ]
  },
  {
   "cell_type": "markdown",
   "id": "ee974e6f",
   "metadata": {},
   "source": [
    "From the bar chart above, we observe that the highest revenue is obtained in the month of Dec of 2016, followed by August, and March."
   ]
  },
  {
   "cell_type": "markdown",
   "id": "4db6ee1f",
   "metadata": {},
   "source": [
    "## What are the properties helping to predict price?\n",
    "In this section, we try to predict the prices by investigating the appropriate numerical and categorical features and using a simple linear regression model."
   ]
  },
  {
   "cell_type": "code",
   "execution_count": 40,
   "id": "118a36a1",
   "metadata": {},
   "outputs": [],
   "source": [
    "# Dummy the categorical variables\n",
    "# We use the following categorical variables as our caregorical variables and dummy them:\n",
    "cat_vars = ['neighbourhood', 'property_type', 'room_type', 'bed_type'] #\n",
    "df_regression_seattle_vars = pd.DataFrame()\n",
    "df_regression_seattle_vars = df_listing_seattle[cat_vars]\n",
    "for var in  cat_vars:\n",
    "    # for each cat add dummy var, drop original column\n",
    "    df_regression_seattle_vars = pd.concat([df_regression_seattle_vars.drop(var, axis=1), \n",
    "                                           pd.get_dummies(df_regression_seattle_vars[var], \n",
    "                                                          prefix=var, prefix_sep='_', drop_first=True)], axis=1)\n",
    "cat_columns = list(df_regression_seattle_vars.columns)"
   ]
  },
  {
   "cell_type": "code",
   "execution_count": 41,
   "id": "453f69ee",
   "metadata": {},
   "outputs": [
    {
     "data": {
      "text/plain": [
       "(3402, 115)"
      ]
     },
     "execution_count": 41,
     "metadata": {},
     "output_type": "execute_result"
    }
   ],
   "source": [
    "# We furher consider the following columns as our quatitative features\n",
    "numerical_columns = ['availability_30', 'availability_60', 'availability_90', 'availability_365', 'latitude', 'longitude', 'review_scores_rating', 'bathrooms', 'bedrooms', 'beds', 'guests_included', 'minimum_nights',\n",
    "       'maximum_nights']\n",
    "df_regression_seattle_vars[numerical_columns] = df_listing_seattle[numerical_columns]\n",
    "\n",
    "df_regression_seattle_vars['price'] = df_listing_seattle['price']\n",
    "df_regression_seattle_vars.shape"
   ]
  },
  {
   "cell_type": "code",
   "execution_count": 42,
   "id": "b5eb6ce2",
   "metadata": {},
   "outputs": [
    {
     "name": "stdout",
     "output_type": "stream",
     "text": [
      "(3402, 13)\n",
      "(3402, 101)\n",
      "(3402, 114)\n"
     ]
    },
    {
     "data": {
      "image/png": "[encoded data removed]",
      "text/plain": [
       "<Figure size 640x480 with 1 Axes>"
      ]
     },
     "metadata": {},
     "output_type": "display_data"
    }
   ],
   "source": [
    "# In order to see the effect of different features we are considering, we include them one by one to a \n",
    "# simple linear regression model, and plot the corresponding r-squared as shown below.\n",
    "\n",
    "from sklearn.linear_model import LinearRegression\n",
    "from sklearn.model_selection import train_test_split\n",
    "from sklearn.metrics import r2_score, mean_squared_error\n",
    "\n",
    "# The following function, takes a dataframe, i.e., df, along with quantitave features numerical_columns, and \n",
    "# cetgorical features cat_columns, and dependeing on the scaling flag being true or false, it scales the columns \n",
    "# of the input dataframe df.\n",
    "\n",
    "def preprocessing(df, scaling, cutoff, numerical_columns, cat_columns):\n",
    "    '''\n",
    "    INPUT\n",
    "     df - a data frame\n",
    "     scaling - a boolean: True means allow scaling, False means skip the scaling\n",
    "     cutoffs - a list of numbers pertaining to the number of missing values allowed in the used columns\n",
    "     numerical_columns: list of numerical columns\n",
    "     cat_columns: list of categorical columns\n",
    "    \n",
    "    OUTPUT\n",
    "     X - Input features\n",
    "     Y - the independent variable to be predicted\n",
    "    \n",
    "    This function preprocesses the input data and outputs the preprocess features along with the independent values.\n",
    "    '''\n",
    "    \n",
    "    # Mean function\n",
    "    fill_mean = lambda col: col.fillna(col.mean())\n",
    "\n",
    "    # Fill the mean\n",
    "    fill_df = df.apply(fill_mean, axis=0)\n",
    "\n",
    "    y = fill_df['price'].values.tolist()\n",
    "    X = fill_df.drop('price', axis='columns', inplace=False)\n",
    "\n",
    "    if scaling:\n",
    "\n",
    "        from sklearn import preprocessing\n",
    "        d = preprocessing.normalize(X[numerical_columns], norm='l2')\n",
    "        scaled_X = pd.DataFrame(d, columns=numerical_columns)\n",
    "        print(scaled_X.shape)\n",
    "        print(X[cat_columns].shape)\n",
    "        scaled_X.reset_index(inplace=True, drop=True)\n",
    "        X.reset_index(inplace=True, drop=True)\n",
    "\n",
    "\n",
    "        X_red_cat = X[cat_columns].iloc[:, np.where((X[cat_columns].sum() > cutoff) == True)[0]]\n",
    "\n",
    "        scaled_X = pd.concat([scaled_X, X_red_cat], axis='columns')\n",
    "        print(scaled_X.shape)\n",
    "\n",
    "\n",
    "        scaled_y = list(preprocessing.normalize([np.array(y)]).transpose())\n",
    "        scaled_y = [item for sublist in pd.DataFrame(scaled_y).values for item in sublist]\n",
    "        \n",
    "        return scaled_X, scaled_y\n",
    "    else:\n",
    "        return X, y\n",
    "\n",
    "def RSquared(X_train, X_test, y_train, y_test):\n",
    "    '''\n",
    "    INPUT\n",
    "     X_train - a data frame containing train feature data\n",
    "     X_test - a data frame containing test feature data\n",
    "     y_train - a data frame containing train labels\n",
    "     y_test - a data frame containing test labels\n",
    "    \n",
    "    OUTPUT\n",
    "     r2_list - list of r2-squared\n",
    "    \n",
    "    This function takes the training and test data and outputs the list of r2 scores by considering different \n",
    "    features incrementally.    \n",
    "    '''\n",
    "    \n",
    "    r2_list = [] \n",
    "    for i in range(1,len(X_train.columns)):\n",
    "        lm_model = LinearRegression() # Instantiate\n",
    "        lm_model.fit(X_train.iloc[:,:i], y_train) #Fit\n",
    "\n",
    "        #Predict and score the model\n",
    "        y_test_preds = lm_model.predict(X_test.iloc[:,:i]) \n",
    "        r2= r2_score(y_test, y_test_preds)\n",
    "        \"The r-squared score for the model using only quantitative variables was {} on {} values.\".format(r2, len(y_test))\n",
    "        r2_list.append(r2) \n",
    "    return r2_list\n",
    "    \n",
    "    \n",
    "    \n",
    "X, y = preprocessing(df_regression_seattle_vars, True, 0, numerical_columns, cat_columns)\n",
    "\n",
    "#Split into train and test\n",
    "X_train, X_test, y_train, y_test = train_test_split(X, y, test_size = .30, random_state=42) \n",
    "\n",
    "r2_list = RSquared(X_train, X_test, y_train, y_test)  \n",
    "plt.plot(r2_list)\n",
    "\n",
    "plt.xlabel(\"number of features\")\n",
    "plt.ylabel(\"r-squared\")\n",
    "\n",
    "plt.show()\n"
   ]
  },
  {
   "cell_type": "markdown",
   "id": "7a4bace0",
   "metadata": {},
   "source": [
    "### Getting the highest prices\n",
    "The computation below shows that the highest 20 percent of the prices lie between 170 USD and 1000 USD."
   ]
  },
  {
   "cell_type": "code",
   "execution_count": 43,
   "id": "74ea495e",
   "metadata": {},
   "outputs": [
    {
     "name": "stdout",
     "output_type": "stream",
     "text": [
      "Min Pice :  170.0\n",
      "Max Price :  1000.0\n"
     ]
    }
   ],
   "source": [
    "percentile = .8\n",
    "percentile_val = df_regression_seattle_vars['price'].quantile(percentile)\n",
    "df_regression_seattle_vars_top_prices = df_regression_seattle_vars[df_regression_seattle_vars['price'] >= percentile_val]\n",
    "print(\"Min Pice : \", df_regression_seattle_vars_top_prices['price'].min())\n",
    "print(\"Max Price : \", df_regression_seattle_vars_top_prices['price'].max())"
   ]
  },
  {
   "cell_type": "markdown",
   "id": "b4a55c5a",
   "metadata": {},
   "source": [
    "### Getting the lowest prices\n",
    "The computation below shows that the lowest 20 percent of the prices lie between 20 USD and 69 USD."
   ]
  },
  {
   "cell_type": "code",
   "execution_count": 44,
   "id": "da271b18",
   "metadata": {},
   "outputs": [
    {
     "name": "stdout",
     "output_type": "stream",
     "text": [
      "Min Pice :  20.0\n",
      "Max Price :  69.0\n"
     ]
    }
   ],
   "source": [
    "# The low 20% prices\n",
    "percentile = .2\n",
    "percentile_val = df_regression_seattle_vars['price'].quantile(percentile)\n",
    "df_regression_seattle_vars_low_prices = df_regression_seattle_vars[df_regression_seattle_vars['price'] <= percentile_val]\n",
    "print(\"Min Pice : \", df_regression_seattle_vars_low_prices['price'].min())\n",
    "print(\"Max Price : \", df_regression_seattle_vars_low_prices['price'].max())\n"
   ]
  },
  {
   "cell_type": "markdown",
   "id": "d3698a5a",
   "metadata": {},
   "source": [
    "## Can we find the lisings with positive and negative reviews?\n",
    "\n",
    "In this part, we analyze the sentiment of the collected reviews using [vaderSentiment](https://pypi.org/project/vaderSentiment/#:~:text=VADER%20(Valence%20Aware%20Dictionary%20and,on%20texts%20from%20other%20domains.). Particularly, we label the review comments in the df_reviews_seattle data frame with \"Positive\", \"Negative\", and \"Neutral\", and investigate the corresponding statistics, prices and the property types."
   ]
  },
  {
   "cell_type": "code",
   "execution_count": 45,
   "id": "772a41bd",
   "metadata": {},
   "outputs": [
    {
     "name": "stdout",
     "output_type": "stream",
     "text": [
      "Comment :  Cute and cozy place. Perfect location to everything! \n",
      "Sentiment :  Positive\n"
     ]
    }
   ],
   "source": [
    "import vaderSentiment\n",
    "# calling SentimentIntensityAnalyzer object\n",
    "from vaderSentiment.vaderSentiment import SentimentIntensityAnalyzer\n",
    "\n",
    "analyser = SentimentIntensityAnalyzer()\n",
    "\n",
    "def vader_sentiment_analysis(review_content):\n",
    "    '''\n",
    "    INPUT\n",
    "     review_content - a review comment in string format\n",
    "    \n",
    "    OUTPUT\n",
    "     The sentimet string - \"Positive\", \"Negative\" or \"Neutral\"\n",
    "    \n",
    "    This function gets the review_content as an string object, and returns whether it is a \n",
    "    positive, negative, or neutral comment.    \n",
    "    '''\n",
    "    score_dict = analyser.polarity_scores(review_content)\n",
    "    compound = score_dict['compound']\n",
    "    \n",
    "    def Sentiment(x):\n",
    "        if x>= 0.05:\n",
    "            return \"Positive\"\n",
    "        elif x<= -0.05:\n",
    "            return \"Negative\"\n",
    "        else:\n",
    "            return \"Neutral\"\n",
    "        \n",
    "    return Sentiment(compound)\n",
    "\n",
    "# Example:\n",
    "review_content = df_reviews_seattle.iloc[0]['comments']\n",
    "print(\"Comment : \", review_content)\n",
    "print(\"Sentiment : \", vader_sentiment_analysis(review_content))\n"
   ]
  },
  {
   "cell_type": "code",
   "execution_count": 46,
   "id": "e2bc8ede",
   "metadata": {},
   "outputs": [
    {
     "data": {
      "text/html": [
       "<div>\n",
       "<style scoped>\n",
       "    .dataframe tbody tr th:only-of-type {\n",
       "        vertical-align: middle;\n",
       "    }\n",
       "\n",
       "    .dataframe tbody tr th {\n",
       "        vertical-align: top;\n",
       "    }\n",
       "\n",
       "    .dataframe thead th {\n",
       "        text-align: right;\n",
       "    }\n",
       "</style>\n",
       "<table border=\"1\" class=\"dataframe\">\n",
       "  <thead>\n",
       "    <tr style=\"text-align: right;\">\n",
       "      <th></th>\n",
       "      <th>listing_id</th>\n",
       "      <th>id</th>\n",
       "      <th>date</th>\n",
       "      <th>reviewer_id</th>\n",
       "      <th>reviewer_name</th>\n",
       "      <th>comments</th>\n",
       "    </tr>\n",
       "  </thead>\n",
       "  <tbody>\n",
       "    <tr>\n",
       "      <th>0</th>\n",
       "      <td>7202016</td>\n",
       "      <td>38917982</td>\n",
       "      <td>2015-07-19</td>\n",
       "      <td>28943674</td>\n",
       "      <td>Bianca</td>\n",
       "      <td>Cute and cozy place. Perfect location to every...</td>\n",
       "    </tr>\n",
       "    <tr>\n",
       "      <th>1</th>\n",
       "      <td>7202016</td>\n",
       "      <td>39087409</td>\n",
       "      <td>2015-07-20</td>\n",
       "      <td>32440555</td>\n",
       "      <td>Frank</td>\n",
       "      <td>Kelly has a great room in a very central locat...</td>\n",
       "    </tr>\n",
       "    <tr>\n",
       "      <th>2</th>\n",
       "      <td>7202016</td>\n",
       "      <td>39820030</td>\n",
       "      <td>2015-07-26</td>\n",
       "      <td>37722850</td>\n",
       "      <td>Ian</td>\n",
       "      <td>Very spacious apartment, and in a great neighb...</td>\n",
       "    </tr>\n",
       "    <tr>\n",
       "      <th>3</th>\n",
       "      <td>7202016</td>\n",
       "      <td>40813543</td>\n",
       "      <td>2015-08-02</td>\n",
       "      <td>33671805</td>\n",
       "      <td>George</td>\n",
       "      <td>Close to Seattle Center and all it has to offe...</td>\n",
       "    </tr>\n",
       "    <tr>\n",
       "      <th>4</th>\n",
       "      <td>7202016</td>\n",
       "      <td>41986501</td>\n",
       "      <td>2015-08-10</td>\n",
       "      <td>34959538</td>\n",
       "      <td>Ming</td>\n",
       "      <td>Kelly was a great host and very accommodating ...</td>\n",
       "    </tr>\n",
       "  </tbody>\n",
       "</table>\n",
       "</div>"
      ],
      "text/plain": [
       "   listing_id        id        date  reviewer_id reviewer_name  \\\n",
       "0     7202016  38917982  2015-07-19     28943674        Bianca   \n",
       "1     7202016  39087409  2015-07-20     32440555         Frank   \n",
       "2     7202016  39820030  2015-07-26     37722850           Ian   \n",
       "3     7202016  40813543  2015-08-02     33671805        George   \n",
       "4     7202016  41986501  2015-08-10     34959538          Ming   \n",
       "\n",
       "                                            comments  \n",
       "0  Cute and cozy place. Perfect location to every...  \n",
       "1  Kelly has a great room in a very central locat...  \n",
       "2  Very spacious apartment, and in a great neighb...  \n",
       "3  Close to Seattle Center and all it has to offe...  \n",
       "4  Kelly was a great host and very accommodating ...  "
      ]
     },
     "execution_count": 46,
     "metadata": {},
     "output_type": "execute_result"
    }
   ],
   "source": [
    "# Revisiting the df_reviews_seattle head\n",
    "df_reviews_seattle.head()"
   ]
  },
  {
   "cell_type": "code",
   "execution_count": null,
   "id": "5f00f4a3",
   "metadata": {},
   "outputs": [],
   "source": [
    "# Labeling the comments column of df_reviews_seattle with the corresponding sentiments, and populating \n",
    "# df_reviews_seattle_stat dataframe out of those labels\n",
    "df_reviews_seattle_stat = pd.DataFrame()\n",
    "df_reviews_seattle_stat[['listing_id', 'date']] = df_reviews_seattle[['listing_id', 'date']]\n",
    "df_reviews_seattle_stat['review_sentiment'] = df_reviews_seattle['comments'].apply(vader_sentiment_analysis)"
   ]
  },
  {
   "cell_type": "code",
   "execution_count": null,
   "id": "74270084",
   "metadata": {},
   "outputs": [],
   "source": [
    "# Understanding the head of df_reviews_seattle_stat\n",
    "df_reviews_seattle_stat.head()"
   ]
  },
  {
   "cell_type": "markdown",
   "id": "5beca80c",
   "metadata": {},
   "source": [
    "The following figure shows the histogram of the sentiments of the review comments. As was expected from the explatory phase of the data set above, the majority of the comments are positive. That is because that we had a skewed rating histogram towards the high scores."
   ]
  },
  {
   "cell_type": "code",
   "execution_count": null,
   "id": "ad2d4f55",
   "metadata": {},
   "outputs": [],
   "source": [
    "df_reviews_seattle_stat['review_sentiment'].hist();"
   ]
  },
  {
   "cell_type": "code",
   "execution_count": null,
   "id": "0cc0d8d9",
   "metadata": {},
   "outputs": [],
   "source": [
    "# Summary percebntage of review sentiments\n",
    "df_reviews_seattle_stat['review_sentiment'].value_counts(normalize=True) * 100"
   ]
  },
  {
   "cell_type": "code",
   "execution_count": null,
   "id": "d7b3739d",
   "metadata": {},
   "outputs": [],
   "source": [
    "# List of all negative review listing_ids\n",
    "negative_review_listing_ids = df_reviews_seattle_stat.loc[df_reviews_seattle_stat['review_sentiment'] == 'Negative']['listing_id'].values.tolist()\n"
   ]
  },
  {
   "cell_type": "code",
   "execution_count": null,
   "id": "ec9e57d7",
   "metadata": {},
   "outputs": [],
   "source": [
    "df_listing_seattle[df_listing_seattle['id'].isin(negative_review_listing_ids)]['price']"
   ]
  },
  {
   "cell_type": "markdown",
   "id": "a9045447",
   "metadata": {},
   "source": [
    "As the histogram below shows, the majority of negative reviews are for listings with less than 200 USD."
   ]
  },
  {
   "cell_type": "code",
   "execution_count": null,
   "id": "9e713333",
   "metadata": {},
   "outputs": [],
   "source": [
    "negative_review_prices = np.array(list(df_listing_seattle[df_listing_seattle['id'].isin(negative_review_listing_ids)]['price']))\n",
    "\n",
    "fig, ax = plt.subplots(1, 1)\n",
    "ax.hist(negative_review_prices)\n",
    "  \n",
    "# Set title\n",
    "ax.set_title(\"Negative Review prices histogram\")\n",
    "ax.set_xlabel('Prices in USD')\n",
    "ax.set_ylabel('Number of Prices')\n",
    "\n",
    "plt.show()"
   ]
  },
  {
   "cell_type": "markdown",
   "id": "8ebbe677",
   "metadata": {},
   "source": [
    "The histograms below show the distributions for the negative listings for the property types, room types, and the bed types. As shown below, these distrubtions do not differ from the histograms for the all the listings provied above in the exploratory phase."
   ]
  },
  {
   "cell_type": "code",
   "execution_count": null,
   "id": "f80eb14d",
   "metadata": {},
   "outputs": [],
   "source": [
    "\n",
    "base_color = sb.color_palette()[0];\n",
    "sb.countplot(data=df_listing_seattle[df_listing_seattle['id'].isin(negative_review_listing_ids)], x='property_type', color=base_color);\n",
    "\n",
    "plt.xticks(rotation=90);"
   ]
  },
  {
   "cell_type": "code",
   "execution_count": null,
   "id": "6597433f",
   "metadata": {},
   "outputs": [],
   "source": [
    "\n",
    "base_color = sb.color_palette()[0];\n",
    "sb.countplot(data=df_listing_seattle[df_listing_seattle['id'].isin(negative_review_listing_ids)], x='room_type', color=base_color);\n",
    "\n",
    "plt.xticks(rotation=90);"
   ]
  },
  {
   "cell_type": "code",
   "execution_count": null,
   "id": "e6ae647c",
   "metadata": {},
   "outputs": [],
   "source": [
    "base_color = sb.color_palette()[0];\n",
    "sb.countplot(data=df_listing_seattle[df_listing_seattle['id'].isin(negative_review_listing_ids)], x='bed_type', color=base_color);\n",
    "\n",
    "plt.xticks(rotation=90);"
   ]
  },
  {
   "cell_type": "markdown",
   "id": "e3f83bbe",
   "metadata": {},
   "source": [
    "# Conclusion\n",
    "\n",
    "In conclusion, the most expensive neighbourhood is Fairmount Park and the cheapest neighbourhood is Roxhill. The highest 20 percent of the prices lie between 170 USD and 1000 USD, and the lowest 20 percent of the prices lie between 20 USD and 69 USD. The highest revenue is obtained in the month of Dec of 2016, followed by August, and March.\n",
    "Furthermmore, the majority of negative reviews are for listings with less than 200 USD."
   ]
  },
  {
   "cell_type": "code",
   "execution_count": null,
   "id": "e8c3d4bd",
   "metadata": {},
   "outputs": [],
   "source": []
  }
 ],
 "metadata": {
  "kernelspec": {
   "display_name": "Python 3.10 (globalrelay)",
   "language": "python",
   "name": "globalrelay"
  },
  "language_info": {
   "codemirror_mode": {
    "name": "ipython",
    "version": 3
   },
   "file_extension": ".py",
   "mimetype": "text/x-python",
   "name": "python",
   "nbconvert_exporter": "python",
   "pygments_lexer": "ipython3",
   "version": "3.10.10"
  }
 },
 "nbformat": 4,
 "nbformat_minor": 5
}
