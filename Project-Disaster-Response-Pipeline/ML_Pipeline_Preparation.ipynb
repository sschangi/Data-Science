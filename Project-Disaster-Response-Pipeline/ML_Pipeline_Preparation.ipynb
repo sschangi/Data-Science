{
 "cells": [
  {
   "cell_type": "markdown",
   "metadata": {},
   "source": [
    "# ML Pipeline Preparation\n",
    "Follow the instructions below to help you create your ML pipeline.\n",
    "### 1. Import libraries and load data from database.\n",
    "- Import Python libraries\n",
    "- Load dataset from database with [`read_sql_table`](https://pandas.pydata.org/pandas-docs/stable/generated/pandas.read_sql_table.html)\n",
    "- Define feature and target variables X and Y"
   ]
  },
  {
   "cell_type": "code",
   "execution_count": 1,
   "metadata": {},
   "outputs": [
    {
     "name": "stdout",
     "output_type": "stream",
     "text": [
      "[nltk_data] Downloading package punkt to /root/nltk_data...\n",
      "[nltk_data]   Unzipping tokenizers/punkt.zip.\n",
      "[nltk_data] Downloading package wordnet to /root/nltk_data...\n"
     ]
    }
   ],
   "source": [
    "# import libraries\n",
    "import nltk\n",
    "nltk.download(['punkt', 'wordnet'])\n",
    "\n",
    "import re\n",
    "import pandas as pd\n",
    "import numpy as np\n",
    "from sqlalchemy import create_engine\n",
    "from nltk.tokenize import word_tokenize\n",
    "from nltk.stem import WordNetLemmatizer\n",
    "\n",
    "from sklearn.pipeline import Pipeline\n",
    "from sklearn.metrics import confusion_matrix\n",
    "from sklearn.model_selection import train_test_split\n",
    "from sklearn.ensemble import RandomForestClassifier\n",
    "from sklearn.multioutput import MultiOutputClassifier\n",
    "from sklearn.linear_model import LogisticRegression\n",
    "from sklearn.feature_extraction.text import CountVectorizer, TfidfTransformer\n",
    "from sklearn.metrics import classification_report\n",
    "from sklearn.model_selection import GridSearchCV"
   ]
  },
  {
   "cell_type": "code",
   "execution_count": 2,
   "metadata": {},
   "outputs": [],
   "source": [
    "# load data from database\n",
    "engine = create_engine('sqlite:///InsertDatabaseName.db')\n",
    "df = pd.read_sql_table('InsertTableName', engine)\n",
    "df.head()\n",
    "X = df.iloc[:,2:3]\n",
    "y = df.iloc[:,-36:]"
   ]
  },
  {
   "cell_type": "code",
   "execution_count": 3,
   "metadata": {},
   "outputs": [
    {
     "data": {
      "text/plain": [
       "(pandas.core.frame.DataFrame, pandas.core.frame.DataFrame)"
      ]
     },
     "execution_count": 3,
     "metadata": {},
     "output_type": "execute_result"
    }
   ],
   "source": [
    "type(X), type(y)"
   ]
  },
  {
   "cell_type": "code",
   "execution_count": 4,
   "metadata": {},
   "outputs": [
    {
     "data": {
      "text/plain": [
       "((26216, 1), (26216, 36))"
      ]
     },
     "execution_count": 4,
     "metadata": {},
     "output_type": "execute_result"
    }
   ],
   "source": [
    "X.shape, y.shape"
   ]
  },
  {
   "cell_type": "code",
   "execution_count": 5,
   "metadata": {},
   "outputs": [
    {
     "data": {
      "text/html": [
       "<div>\n",
       "<style scoped>\n",
       "    .dataframe tbody tr th:only-of-type {\n",
       "        vertical-align: middle;\n",
       "    }\n",
       "\n",
       "    .dataframe tbody tr th {\n",
       "        vertical-align: top;\n",
       "    }\n",
       "\n",
       "    .dataframe thead th {\n",
       "        text-align: right;\n",
       "    }\n",
       "</style>\n",
       "<table border=\"1\" class=\"dataframe\">\n",
       "  <thead>\n",
       "    <tr style=\"text-align: right;\">\n",
       "      <th></th>\n",
       "      <th>index</th>\n",
       "      <th>id</th>\n",
       "      <th>message</th>\n",
       "      <th>original</th>\n",
       "      <th>genre</th>\n",
       "      <th>related</th>\n",
       "      <th>request</th>\n",
       "      <th>offer</th>\n",
       "      <th>aid_related</th>\n",
       "      <th>medical_help</th>\n",
       "      <th>...</th>\n",
       "      <th>aid_centers</th>\n",
       "      <th>other_infrastructure</th>\n",
       "      <th>weather_related</th>\n",
       "      <th>floods</th>\n",
       "      <th>storm</th>\n",
       "      <th>fire</th>\n",
       "      <th>earthquake</th>\n",
       "      <th>cold</th>\n",
       "      <th>other_weather</th>\n",
       "      <th>direct_report</th>\n",
       "    </tr>\n",
       "  </thead>\n",
       "  <tbody>\n",
       "    <tr>\n",
       "      <th>0</th>\n",
       "      <td>0</td>\n",
       "      <td>2</td>\n",
       "      <td>Weather update - a cold front from Cuba that c...</td>\n",
       "      <td>Un front froid se retrouve sur Cuba ce matin. ...</td>\n",
       "      <td>direct</td>\n",
       "      <td>1.0</td>\n",
       "      <td>0.0</td>\n",
       "      <td>0.0</td>\n",
       "      <td>0.0</td>\n",
       "      <td>0.0</td>\n",
       "      <td>...</td>\n",
       "      <td>0.0</td>\n",
       "      <td>0.0</td>\n",
       "      <td>0.0</td>\n",
       "      <td>0.0</td>\n",
       "      <td>0.0</td>\n",
       "      <td>0.0</td>\n",
       "      <td>0.0</td>\n",
       "      <td>0.0</td>\n",
       "      <td>0.0</td>\n",
       "      <td>0.0</td>\n",
       "    </tr>\n",
       "    <tr>\n",
       "      <th>1</th>\n",
       "      <td>1</td>\n",
       "      <td>7</td>\n",
       "      <td>Is the Hurricane over or is it not over</td>\n",
       "      <td>Cyclone nan fini osinon li pa fini</td>\n",
       "      <td>direct</td>\n",
       "      <td>1.0</td>\n",
       "      <td>0.0</td>\n",
       "      <td>0.0</td>\n",
       "      <td>1.0</td>\n",
       "      <td>0.0</td>\n",
       "      <td>...</td>\n",
       "      <td>0.0</td>\n",
       "      <td>0.0</td>\n",
       "      <td>1.0</td>\n",
       "      <td>0.0</td>\n",
       "      <td>1.0</td>\n",
       "      <td>0.0</td>\n",
       "      <td>0.0</td>\n",
       "      <td>0.0</td>\n",
       "      <td>0.0</td>\n",
       "      <td>0.0</td>\n",
       "    </tr>\n",
       "    <tr>\n",
       "      <th>2</th>\n",
       "      <td>2</td>\n",
       "      <td>8</td>\n",
       "      <td>Looking for someone but no name</td>\n",
       "      <td>Patnm, di Maryani relem pou li banm nouvel li ...</td>\n",
       "      <td>direct</td>\n",
       "      <td>1.0</td>\n",
       "      <td>0.0</td>\n",
       "      <td>0.0</td>\n",
       "      <td>0.0</td>\n",
       "      <td>0.0</td>\n",
       "      <td>...</td>\n",
       "      <td>0.0</td>\n",
       "      <td>0.0</td>\n",
       "      <td>0.0</td>\n",
       "      <td>0.0</td>\n",
       "      <td>0.0</td>\n",
       "      <td>0.0</td>\n",
       "      <td>0.0</td>\n",
       "      <td>0.0</td>\n",
       "      <td>0.0</td>\n",
       "      <td>0.0</td>\n",
       "    </tr>\n",
       "    <tr>\n",
       "      <th>3</th>\n",
       "      <td>3</td>\n",
       "      <td>9</td>\n",
       "      <td>UN reports Leogane 80-90 destroyed. Only Hospi...</td>\n",
       "      <td>UN reports Leogane 80-90 destroyed. Only Hospi...</td>\n",
       "      <td>direct</td>\n",
       "      <td>1.0</td>\n",
       "      <td>1.0</td>\n",
       "      <td>0.0</td>\n",
       "      <td>1.0</td>\n",
       "      <td>0.0</td>\n",
       "      <td>...</td>\n",
       "      <td>0.0</td>\n",
       "      <td>0.0</td>\n",
       "      <td>0.0</td>\n",
       "      <td>0.0</td>\n",
       "      <td>0.0</td>\n",
       "      <td>0.0</td>\n",
       "      <td>0.0</td>\n",
       "      <td>0.0</td>\n",
       "      <td>0.0</td>\n",
       "      <td>0.0</td>\n",
       "    </tr>\n",
       "    <tr>\n",
       "      <th>4</th>\n",
       "      <td>4</td>\n",
       "      <td>12</td>\n",
       "      <td>says: west side of Haiti, rest of the country ...</td>\n",
       "      <td>facade ouest d Haiti et le reste du pays aujou...</td>\n",
       "      <td>direct</td>\n",
       "      <td>1.0</td>\n",
       "      <td>0.0</td>\n",
       "      <td>0.0</td>\n",
       "      <td>0.0</td>\n",
       "      <td>0.0</td>\n",
       "      <td>...</td>\n",
       "      <td>0.0</td>\n",
       "      <td>0.0</td>\n",
       "      <td>0.0</td>\n",
       "      <td>0.0</td>\n",
       "      <td>0.0</td>\n",
       "      <td>0.0</td>\n",
       "      <td>0.0</td>\n",
       "      <td>0.0</td>\n",
       "      <td>0.0</td>\n",
       "      <td>0.0</td>\n",
       "    </tr>\n",
       "  </tbody>\n",
       "</table>\n",
       "<p>5 rows × 41 columns</p>\n",
       "</div>"
      ],
      "text/plain": [
       "   index  id                                            message  \\\n",
       "0      0   2  Weather update - a cold front from Cuba that c...   \n",
       "1      1   7            Is the Hurricane over or is it not over   \n",
       "2      2   8                    Looking for someone but no name   \n",
       "3      3   9  UN reports Leogane 80-90 destroyed. Only Hospi...   \n",
       "4      4  12  says: west side of Haiti, rest of the country ...   \n",
       "\n",
       "                                            original   genre  related  \\\n",
       "0  Un front froid se retrouve sur Cuba ce matin. ...  direct      1.0   \n",
       "1                 Cyclone nan fini osinon li pa fini  direct      1.0   \n",
       "2  Patnm, di Maryani relem pou li banm nouvel li ...  direct      1.0   \n",
       "3  UN reports Leogane 80-90 destroyed. Only Hospi...  direct      1.0   \n",
       "4  facade ouest d Haiti et le reste du pays aujou...  direct      1.0   \n",
       "\n",
       "   request  offer  aid_related  medical_help      ...        aid_centers  \\\n",
       "0      0.0    0.0          0.0           0.0      ...                0.0   \n",
       "1      0.0    0.0          1.0           0.0      ...                0.0   \n",
       "2      0.0    0.0          0.0           0.0      ...                0.0   \n",
       "3      1.0    0.0          1.0           0.0      ...                0.0   \n",
       "4      0.0    0.0          0.0           0.0      ...                0.0   \n",
       "\n",
       "   other_infrastructure  weather_related  floods  storm  fire  earthquake  \\\n",
       "0                   0.0              0.0     0.0    0.0   0.0         0.0   \n",
       "1                   0.0              1.0     0.0    1.0   0.0         0.0   \n",
       "2                   0.0              0.0     0.0    0.0   0.0         0.0   \n",
       "3                   0.0              0.0     0.0    0.0   0.0         0.0   \n",
       "4                   0.0              0.0     0.0    0.0   0.0         0.0   \n",
       "\n",
       "   cold  other_weather  direct_report  \n",
       "0   0.0            0.0            0.0  \n",
       "1   0.0            0.0            0.0  \n",
       "2   0.0            0.0            0.0  \n",
       "3   0.0            0.0            0.0  \n",
       "4   0.0            0.0            0.0  \n",
       "\n",
       "[5 rows x 41 columns]"
      ]
     },
     "execution_count": 5,
     "metadata": {},
     "output_type": "execute_result"
    }
   ],
   "source": [
    "df.head()"
   ]
  },
  {
   "cell_type": "code",
   "execution_count": 6,
   "metadata": {},
   "outputs": [
    {
     "data": {
      "text/html": [
       "<div>\n",
       "<style scoped>\n",
       "    .dataframe tbody tr th:only-of-type {\n",
       "        vertical-align: middle;\n",
       "    }\n",
       "\n",
       "    .dataframe tbody tr th {\n",
       "        vertical-align: top;\n",
       "    }\n",
       "\n",
       "    .dataframe thead th {\n",
       "        text-align: right;\n",
       "    }\n",
       "</style>\n",
       "<table border=\"1\" class=\"dataframe\">\n",
       "  <thead>\n",
       "    <tr style=\"text-align: right;\">\n",
       "      <th></th>\n",
       "      <th>message</th>\n",
       "    </tr>\n",
       "  </thead>\n",
       "  <tbody>\n",
       "    <tr>\n",
       "      <th>0</th>\n",
       "      <td>Weather update - a cold front from Cuba that c...</td>\n",
       "    </tr>\n",
       "    <tr>\n",
       "      <th>1</th>\n",
       "      <td>Is the Hurricane over or is it not over</td>\n",
       "    </tr>\n",
       "    <tr>\n",
       "      <th>2</th>\n",
       "      <td>Looking for someone but no name</td>\n",
       "    </tr>\n",
       "    <tr>\n",
       "      <th>3</th>\n",
       "      <td>UN reports Leogane 80-90 destroyed. Only Hospi...</td>\n",
       "    </tr>\n",
       "    <tr>\n",
       "      <th>4</th>\n",
       "      <td>says: west side of Haiti, rest of the country ...</td>\n",
       "    </tr>\n",
       "  </tbody>\n",
       "</table>\n",
       "</div>"
      ],
      "text/plain": [
       "                                             message\n",
       "0  Weather update - a cold front from Cuba that c...\n",
       "1            Is the Hurricane over or is it not over\n",
       "2                    Looking for someone but no name\n",
       "3  UN reports Leogane 80-90 destroyed. Only Hospi...\n",
       "4  says: west side of Haiti, rest of the country ..."
      ]
     },
     "execution_count": 6,
     "metadata": {},
     "output_type": "execute_result"
    }
   ],
   "source": [
    "X.head()"
   ]
  },
  {
   "cell_type": "code",
   "execution_count": 7,
   "metadata": {},
   "outputs": [
    {
     "data": {
      "text/html": [
       "<div>\n",
       "<style scoped>\n",
       "    .dataframe tbody tr th:only-of-type {\n",
       "        vertical-align: middle;\n",
       "    }\n",
       "\n",
       "    .dataframe tbody tr th {\n",
       "        vertical-align: top;\n",
       "    }\n",
       "\n",
       "    .dataframe thead th {\n",
       "        text-align: right;\n",
       "    }\n",
       "</style>\n",
       "<table border=\"1\" class=\"dataframe\">\n",
       "  <thead>\n",
       "    <tr style=\"text-align: right;\">\n",
       "      <th></th>\n",
       "      <th>related</th>\n",
       "      <th>request</th>\n",
       "      <th>offer</th>\n",
       "      <th>aid_related</th>\n",
       "      <th>medical_help</th>\n",
       "      <th>medical_products</th>\n",
       "      <th>search_and_rescue</th>\n",
       "      <th>security</th>\n",
       "      <th>military</th>\n",
       "      <th>child_alone</th>\n",
       "      <th>...</th>\n",
       "      <th>aid_centers</th>\n",
       "      <th>other_infrastructure</th>\n",
       "      <th>weather_related</th>\n",
       "      <th>floods</th>\n",
       "      <th>storm</th>\n",
       "      <th>fire</th>\n",
       "      <th>earthquake</th>\n",
       "      <th>cold</th>\n",
       "      <th>other_weather</th>\n",
       "      <th>direct_report</th>\n",
       "    </tr>\n",
       "  </thead>\n",
       "  <tbody>\n",
       "    <tr>\n",
       "      <th>0</th>\n",
       "      <td>1.0</td>\n",
       "      <td>0.0</td>\n",
       "      <td>0.0</td>\n",
       "      <td>0.0</td>\n",
       "      <td>0.0</td>\n",
       "      <td>0.0</td>\n",
       "      <td>0.0</td>\n",
       "      <td>0.0</td>\n",
       "      <td>0.0</td>\n",
       "      <td>0.0</td>\n",
       "      <td>...</td>\n",
       "      <td>0.0</td>\n",
       "      <td>0.0</td>\n",
       "      <td>0.0</td>\n",
       "      <td>0.0</td>\n",
       "      <td>0.0</td>\n",
       "      <td>0.0</td>\n",
       "      <td>0.0</td>\n",
       "      <td>0.0</td>\n",
       "      <td>0.0</td>\n",
       "      <td>0.0</td>\n",
       "    </tr>\n",
       "    <tr>\n",
       "      <th>1</th>\n",
       "      <td>1.0</td>\n",
       "      <td>0.0</td>\n",
       "      <td>0.0</td>\n",
       "      <td>1.0</td>\n",
       "      <td>0.0</td>\n",
       "      <td>0.0</td>\n",
       "      <td>0.0</td>\n",
       "      <td>0.0</td>\n",
       "      <td>0.0</td>\n",
       "      <td>0.0</td>\n",
       "      <td>...</td>\n",
       "      <td>0.0</td>\n",
       "      <td>0.0</td>\n",
       "      <td>1.0</td>\n",
       "      <td>0.0</td>\n",
       "      <td>1.0</td>\n",
       "      <td>0.0</td>\n",
       "      <td>0.0</td>\n",
       "      <td>0.0</td>\n",
       "      <td>0.0</td>\n",
       "      <td>0.0</td>\n",
       "    </tr>\n",
       "    <tr>\n",
       "      <th>2</th>\n",
       "      <td>1.0</td>\n",
       "      <td>0.0</td>\n",
       "      <td>0.0</td>\n",
       "      <td>0.0</td>\n",
       "      <td>0.0</td>\n",
       "      <td>0.0</td>\n",
       "      <td>0.0</td>\n",
       "      <td>0.0</td>\n",
       "      <td>0.0</td>\n",
       "      <td>0.0</td>\n",
       "      <td>...</td>\n",
       "      <td>0.0</td>\n",
       "      <td>0.0</td>\n",
       "      <td>0.0</td>\n",
       "      <td>0.0</td>\n",
       "      <td>0.0</td>\n",
       "      <td>0.0</td>\n",
       "      <td>0.0</td>\n",
       "      <td>0.0</td>\n",
       "      <td>0.0</td>\n",
       "      <td>0.0</td>\n",
       "    </tr>\n",
       "    <tr>\n",
       "      <th>3</th>\n",
       "      <td>1.0</td>\n",
       "      <td>1.0</td>\n",
       "      <td>0.0</td>\n",
       "      <td>1.0</td>\n",
       "      <td>0.0</td>\n",
       "      <td>1.0</td>\n",
       "      <td>0.0</td>\n",
       "      <td>0.0</td>\n",
       "      <td>0.0</td>\n",
       "      <td>0.0</td>\n",
       "      <td>...</td>\n",
       "      <td>0.0</td>\n",
       "      <td>0.0</td>\n",
       "      <td>0.0</td>\n",
       "      <td>0.0</td>\n",
       "      <td>0.0</td>\n",
       "      <td>0.0</td>\n",
       "      <td>0.0</td>\n",
       "      <td>0.0</td>\n",
       "      <td>0.0</td>\n",
       "      <td>0.0</td>\n",
       "    </tr>\n",
       "    <tr>\n",
       "      <th>4</th>\n",
       "      <td>1.0</td>\n",
       "      <td>0.0</td>\n",
       "      <td>0.0</td>\n",
       "      <td>0.0</td>\n",
       "      <td>0.0</td>\n",
       "      <td>0.0</td>\n",
       "      <td>0.0</td>\n",
       "      <td>0.0</td>\n",
       "      <td>0.0</td>\n",
       "      <td>0.0</td>\n",
       "      <td>...</td>\n",
       "      <td>0.0</td>\n",
       "      <td>0.0</td>\n",
       "      <td>0.0</td>\n",
       "      <td>0.0</td>\n",
       "      <td>0.0</td>\n",
       "      <td>0.0</td>\n",
       "      <td>0.0</td>\n",
       "      <td>0.0</td>\n",
       "      <td>0.0</td>\n",
       "      <td>0.0</td>\n",
       "    </tr>\n",
       "  </tbody>\n",
       "</table>\n",
       "<p>5 rows × 36 columns</p>\n",
       "</div>"
      ],
      "text/plain": [
       "   related  request  offer  aid_related  medical_help  medical_products  \\\n",
       "0      1.0      0.0    0.0          0.0           0.0               0.0   \n",
       "1      1.0      0.0    0.0          1.0           0.0               0.0   \n",
       "2      1.0      0.0    0.0          0.0           0.0               0.0   \n",
       "3      1.0      1.0    0.0          1.0           0.0               1.0   \n",
       "4      1.0      0.0    0.0          0.0           0.0               0.0   \n",
       "\n",
       "   search_and_rescue  security  military  child_alone      ...        \\\n",
       "0                0.0       0.0       0.0          0.0      ...         \n",
       "1                0.0       0.0       0.0          0.0      ...         \n",
       "2                0.0       0.0       0.0          0.0      ...         \n",
       "3                0.0       0.0       0.0          0.0      ...         \n",
       "4                0.0       0.0       0.0          0.0      ...         \n",
       "\n",
       "   aid_centers  other_infrastructure  weather_related  floods  storm  fire  \\\n",
       "0          0.0                   0.0              0.0     0.0    0.0   0.0   \n",
       "1          0.0                   0.0              1.0     0.0    1.0   0.0   \n",
       "2          0.0                   0.0              0.0     0.0    0.0   0.0   \n",
       "3          0.0                   0.0              0.0     0.0    0.0   0.0   \n",
       "4          0.0                   0.0              0.0     0.0    0.0   0.0   \n",
       "\n",
       "   earthquake  cold  other_weather  direct_report  \n",
       "0         0.0   0.0            0.0            0.0  \n",
       "1         0.0   0.0            0.0            0.0  \n",
       "2         0.0   0.0            0.0            0.0  \n",
       "3         0.0   0.0            0.0            0.0  \n",
       "4         0.0   0.0            0.0            0.0  \n",
       "\n",
       "[5 rows x 36 columns]"
      ]
     },
     "execution_count": 7,
     "metadata": {},
     "output_type": "execute_result"
    }
   ],
   "source": [
    "y.head()"
   ]
  },
  {
   "cell_type": "code",
   "execution_count": 8,
   "metadata": {},
   "outputs": [],
   "source": [
    "# one_class_columns = []\n",
    "# for col in y.columns:\n",
    "#     if y[col].nunique() == 1:\n",
    "#         one_class_columns.append(col)\n",
    "        \n",
    "# one_class_columns"
   ]
  },
  {
   "cell_type": "code",
   "execution_count": 9,
   "metadata": {},
   "outputs": [],
   "source": [
    "# y.rename(columns = {'child_alone': 'child_alone_DUMMY'}, inplace=True)\n",
    "# y['child_alone_DUMMY'].iloc[0] = 1"
   ]
  },
  {
   "cell_type": "code",
   "execution_count": 10,
   "metadata": {},
   "outputs": [],
   "source": [
    "# y['child_alone_DUMMY'].values"
   ]
  },
  {
   "cell_type": "markdown",
   "metadata": {},
   "source": [
    "### 2. Write a tokenization function to process your text data"
   ]
  },
  {
   "cell_type": "code",
   "execution_count": 11,
   "metadata": {},
   "outputs": [],
   "source": [
    "url_regex = 'http[s]?://(?:[a-zA-Z]|[0-9]|[$-_@.&+]|[!*\\(\\),]|(?:%[0-9a-fA-F][0-9a-fA-F]))+'\n",
    "\n",
    "def tokenize(text):\n",
    "    detected_urls = re.findall(url_regex, text)\n",
    "    for url in detected_urls:\n",
    "        text = text.replace(url, \"urlplaceholder\")\n",
    "\n",
    "    tokens = word_tokenize(text)\n",
    "    lemmatizer = WordNetLemmatizer()\n",
    "\n",
    "    clean_tokens = []\n",
    "    for tok in tokens:\n",
    "        clean_tok = lemmatizer.lemmatize(tok).lower().strip()\n",
    "        clean_tokens.append(clean_tok)\n",
    "\n",
    "    return clean_tokens"
   ]
  },
  {
   "cell_type": "markdown",
   "metadata": {},
   "source": [
    "### 3. Build a machine learning pipeline\n",
    "This machine pipeline should take in the `message` column as input and output classification results on the other 36 categories in the dataset. You may find the [MultiOutputClassifier](http://scikit-learn.org/stable/modules/generated/sklearn.multioutput.MultiOutputClassifier.html) helpful for predicting multiple target variables."
   ]
  },
  {
   "cell_type": "code",
   "execution_count": 12,
   "metadata": {},
   "outputs": [],
   "source": [
    "# pipeline = Pipeline([\n",
    "#         ('vect', CountVectorizer(tokenizer=tokenize)),\n",
    "#         ('tfidf', TfidfTransformer()),\n",
    "#         ('clf', MultiOutputClassifier(LogisticRegression()))\n",
    "#     ])\n",
    "pipeline = Pipeline([('vect', CountVectorizer(tokenizer=tokenize)),\n",
    "                        ('tdfidf', TfidfTransformer()),\n",
    "                        ('clf', MultiOutputClassifier(RandomForestClassifier()))])"
   ]
  },
  {
   "cell_type": "markdown",
   "metadata": {},
   "source": [
    "### 4. Train pipeline\n",
    "- Split data into train and test sets\n",
    "- Train pipeline"
   ]
  },
  {
   "cell_type": "code",
   "execution_count": 13,
   "metadata": {},
   "outputs": [],
   "source": [
    "X_train, X_test, y_train, y_test = train_test_split(X.message.values, y.values)"
   ]
  },
  {
   "cell_type": "code",
   "execution_count": 14,
   "metadata": {},
   "outputs": [
    {
     "data": {
      "text/plain": [
       "(numpy.ndarray, numpy.ndarray)"
      ]
     },
     "execution_count": 14,
     "metadata": {},
     "output_type": "execute_result"
    }
   ],
   "source": [
    "type(X_train), type(y_train)"
   ]
  },
  {
   "cell_type": "code",
   "execution_count": 15,
   "metadata": {},
   "outputs": [
    {
     "data": {
      "text/plain": [
       "((19662,), (19662, 36))"
      ]
     },
     "execution_count": 15,
     "metadata": {},
     "output_type": "execute_result"
    }
   ],
   "source": [
    "X_train.shape, y_train.shape"
   ]
  },
  {
   "cell_type": "code",
   "execution_count": 16,
   "metadata": {},
   "outputs": [
    {
     "data": {
      "text/plain": [
       "('we have thieves in delmas 10 please help us.',\n",
       " array([ 1.,  1.,  0.,  1.,  0.,  0.,  0.,  1.,  0.,  0.,  0.,  0.,  0.,\n",
       "         0.,  0.,  0.,  0.,  0.,  0.,  0.,  0.,  0.,  0.,  0.,  0.,  0.,\n",
       "         0.,  0.,  0.,  0.,  0.,  0.,  0.,  0.,  0.,  1.]))"
      ]
     },
     "execution_count": 16,
     "metadata": {},
     "output_type": "execute_result"
    }
   ],
   "source": [
    "X_test[3], y_test[3]"
   ]
  },
  {
   "cell_type": "code",
   "execution_count": 17,
   "metadata": {},
   "outputs": [
    {
     "data": {
      "text/plain": [
       "((19662,), (19662, 36))"
      ]
     },
     "execution_count": 17,
     "metadata": {},
     "output_type": "execute_result"
    }
   ],
   "source": [
    "X_train.shape, y_train.shape"
   ]
  },
  {
   "cell_type": "code",
   "execution_count": 18,
   "metadata": {},
   "outputs": [
    {
     "data": {
      "text/plain": [
       "numpy.ndarray"
      ]
     },
     "execution_count": 18,
     "metadata": {},
     "output_type": "execute_result"
    }
   ],
   "source": [
    "type(y_train)"
   ]
  },
  {
   "cell_type": "code",
   "execution_count": 19,
   "metadata": {},
   "outputs": [
    {
     "data": {
      "text/plain": [
       "array([[   53,     0],\n",
       "       [   53,     1],\n",
       "       [   53,     2],\n",
       "       ..., \n",
       "       [19354,    33],\n",
       "       [19354,    34],\n",
       "       [19354,    35]])"
      ]
     },
     "execution_count": 19,
     "metadata": {},
     "output_type": "execute_result"
    }
   ],
   "source": [
    "np.argwhere(np.isnan(y_train))"
   ]
  },
  {
   "cell_type": "code",
   "execution_count": 20,
   "metadata": {},
   "outputs": [],
   "source": [
    "idx = np.argwhere(~np.isnan(y_train))"
   ]
  },
  {
   "cell_type": "code",
   "execution_count": 21,
   "metadata": {},
   "outputs": [
    {
     "data": {
      "text/plain": [
       "19532"
      ]
     },
     "execution_count": 21,
     "metadata": {},
     "output_type": "execute_result"
    }
   ],
   "source": [
    "indices = set()\n",
    "for index in idx:\n",
    "    indices.add(index[0])\n",
    "    \n",
    "len(indices)"
   ]
  },
  {
   "cell_type": "code",
   "execution_count": 22,
   "metadata": {},
   "outputs": [
    {
     "data": {
      "text/plain": [
       "(19532, 19532)"
      ]
     },
     "execution_count": 22,
     "metadata": {},
     "output_type": "execute_result"
    }
   ],
   "source": [
    "len(X_train[list(indices)]), len(y_train[list(indices)])"
   ]
  },
  {
   "cell_type": "code",
   "execution_count": 23,
   "metadata": {},
   "outputs": [
    {
     "data": {
      "text/plain": [
       "(array([ 'The liquid waste is delivered to a refinery for processing and treatment.',\n",
       "        '28: Declaring it will continue supporting US attacks against terrorists, Britain announced it is withdrawing its ambassador and other diplomats from Sudan following the American bombing of a suspected chemical weapons plant there.',\n",
       "        'While the focus is to save lives and fight diseases, it is also important to address underlying risks, such as solid and liquid waste, industrial chemicals, sewage treatment and the salinization of drinking water. WHO and UNICEF have reported that their efforts to combat polio appear to have resulted in its eradication in the northern, western and eastern provinces. Six people drowned overnight in Assam state as they tried to escape gushing floodwaters in bamboo rafts, state relief and rehabilitation minister Bhumidhar Barman said. We think that evaluation of the situation in the IDP barracks could be a next step to implement because there seems to be reduced focus on this problem -- we already visited one IDP barracks camp and found many cases of scabies, some cutaneaous mycosis and skin allergy. Family consumption habits have changed, and in many cases been reduced to two meals per day. \"There were already poor water and sanitation facilities and now there is a high risk of water and foodborne diseases,\" says Dr Vickneswaran Sabaratnam, WHO\\'s Consultant Epidemiologist who recently visited Abe Barak. \"The government had given [over $215,490, or 20,000,000 Kenyan shillings] for the purchase of biometric registration equipment in order for us to be able to vet and register the refugees,\" said Ojode. A high population growth rate, dwindling farm size, unjust patterns of land tenure, inefficient farming techniques, deforestation, and degraded soils all contribute to chronic disaster. The water at the creek is not sufficient to cater for drinking and cooking purposes at the care center. Prices are expected to decrease further when the rainfed sorghum harvest enters the market. As the tsunami hit in the Maha (wet) season, paddy was the hardest hit mono-crop, next to fruits and vegetables grown in homegardens. As 50-75% of piped water is lost through leaking pipes, lack of taps, misuse etc., UNICEF will launch an awareness campaign through the mass media. I know that my mum couldn\\'t survive after two months,\\' said Maung Htwe, 18, as he cooked rice for the rest of the family in the shack they cobbled together from storm debris. Angolan authorities have found the presumed wreck of a twin- engine Cessna aircraft that disappeared two weeks ago with its two crewmen, the director of the national civil aviation authority told Lusa on Friday. Up to 2,400 people are provided with water at 20 x 3,000 litre static water tanks placed in strategic positions along national roads. However, tetanus boosters may be indicated for previously vaccinated people who sustain open wounds or for other injured people depending on their tetanus immunization history. 44-gallon drums for latrine construction. Post-disaster communicable illness is expected to rise as a result of the high degree of displacement. Reports from the Red Cross mobile medical units (MMU) in different districts in Assam also show an increase in the incidence of gastrointestinal ailments, diarrhoea, fever, anaemia and vitamin deficiency.Typically they carry medical supplies, food rations, electrical generating equipment, relief workers, including doctors and sanitation experts, machinery, and shelter building materials. At the most flooded camp, Ifo, refugees had to carry what remained of their meagre belongings through the water to temporary shelters on higher ground 20 km (12 miles) away. Two of the smugglers were found to have tortured the detainees with an electrical cable and iron chain.\". He said all camp families were being issued with further equipment, including additional corrugated galvanised iron sheeting, or winter tents, blankets and quilts. The rains will also affect the population at large, making roads impassable due to mudslides and flooding, and cutting off some areas from humanitarian assistance and basic services. Irrigation systems are needed to grow more food and fight poverty and hunger, but they can serve as breeding sites for mosquitoes that transmit malaria. Through weekly coordination meetings, chaired by the Commissioner for Disaster Preparedness, Relief and Rehabilitation, the authorities aim to ensure a coherent, effective and well-targeted emergency relief operation, extending into the subsequent rehabilitation phase. He plans to use the money from UNDP\\'s Social Safety Net programme to buy a welding machine so that in addition to his regular work as a mechanic-driver, he can fix gates, coal pots and other metal goods. Several pastoral tribes occupy the southern part of the region -- routinely hit by drought -- and rely on land for animal grazing. Among these, are four infrastructure grants to help lay the foundation and preparation for the renovation of feeder roads and the rehabilitation of a man-made lake for irrigation purposes. A priority need is to ensure clean water and adequate sanitary conditions. For more information, or to read the complete speeches made by the women peace leaders to Security Council Members, visit www.unifem.undp.org. OCHA is ready to serve as a channel for unearmarked contributions towards the activities of the Appeal, which will then be allocated by the UNDMT in accordance with agreed priorities. IOM plans to help some 40,000 people displaced by the quake to make informed decisions to voluntarily return home between April 1st and October 31st. Some 500,000 people were evacuated because of the storm and 28 people died from landslides, a capsized boat and illness. These rains disrupted harvesting patterns for all crops; accentuated seed drop in teff; slowed the rate of desiccation of later sown grains prior to threshing; increased spoilage in stacks of harvested cereals; caused some germination in standing crops of wheat and sorghum; and increased the likelihood of fungal attacks in both standing and stored grains, particularly pulses. 3 - 132 kV abcb and 1 220 kV SF6 circuit breakers had failed porcelain insulators. Project Outputs: To rehabilitate eight primary schools, including classrooms, teacher housing and bathroom facilities, to government standards. * to build up household coping mechanisms * to rebuild destroyed community assets * to strengthen the capacity and structure of the Orissa State Red Cross Branch. Of this, international assistance will be required for 2 million tons in the form of rice loans, grants, concessionary imports and targeted food aid. The project will also respond to basic requests by affected farmers such as gypsum and organic fertilizers for soil reclamation, and seedlings for coconut, oil palm and fruit trees. Nitin Bilolikar, medical superintendent of Civil Hospital, Pune, concurred that groundwater contamination was a serious worry. Different cluster partners (UNICEF, IFRC, Canadian DART Team, DFID, WHO, Oxfam, Pakistan Hikers Association, etc.) have delivered the following material: 20,000 jerry cans and 5 tanks (11 cubic meters) for 60,000 people have been delivered to Muzaffarabad, in addition to two mobile treatment plants, 80 latrine slabs and plastic sheeting for latrine construction for 1,600 people. The IRC will work with local groups to implement projects that include drilling and improving wells, constructing and repairing irrigation systems and distributing farming supplies. The analysis in the Science paper, based on early data from Mexico, also appears to indicate that this influenza A(H1N1) outbreak is somewhat different from seasonal influenza outbreaks. A shortage of rainfall means that more water evaporates from drought affected areas. Twenty per cent of those who develop chronic liver disease go into more advanced diseases like cancer. \"First we hydrate intravenously or with oral rehydration salts, then we administer antibiotics and parasitic drugs.\". Human and financial resource mobilization continues to be sought from WHO\\'s partners, UN agencies, and other stakeholders. UNDP has arranged the preparation of 200,000 Urea Molasses Blocks (UMB) to supplement the poor grazing and crop residue feeding of 30,000 breeding sheep and goats in the hard hit areas of Balochistan province. Meanwhile the construction of four units of prefabs (for a health clinic) in Gle Putoh, Lamno is ongoing. The foundation provided each family with a compost bin and taught the women how to store all the biodegradable material in the bin. BEIJING, Jul 17, 2006 (Xinhua via COMTEX) -- At least 14 people were confirmed dead when a swelling river flooded a colliery in central China\\'s Hunan Province Saturday, bringing the country\\'s death toll of the tropical storm Bilis to 170. These crowded living conditions highlight the ongoing medical emergency in the capital. As for the reconstruction of homes (with solar-powered lights and latrines with biogas digesters) and the provision of livelihood opportunities, this project seeks to replace the broken track that has derailed the victims\\' lives and to empower them in moving forward.\". MRCS volunteer groups are now providing chlorine at water points in some parts of the city where people are using open wells or boreholes which have become polluted with surface runoff. From a spacious, well-stocked, well-supplied kitchen with a paid employee to cramped quarters without cupboards and just two single-burner gas stoves, the couple is starting all over again. From rainwater catchment systems to micro-dams, we don\\'t keep digging wells in areas where they keep failing - we find a water solution to fit. Tonkolili, one of the most economically productive parts of Sierra Leone, has seen a relatively small proportion of the country\\'s Ebola infections but is experiencing a continued spread which threatens its farming and mining industries. A maternal mortality rate of 880 per 100,000 live births reflects this critical state of affairs. On January 10, the Ministry of Health (MOH) reported new cases of diarrheas, ARIs and viral fevers but said their numbers continue to be within expected range with no upward trend. Vice Minister of Public Security Huang Ming, who arrived in the quake-hit area on Sunday, ordered the police to ensure the safety of roads leading to and from the affected area and strengthen traffic diversion programs throughout the area. Since the beginning of October, FAO through its implementing partner OISCA, has distributed nearly 100 tonnes of rice seeds, over 230 tonnes of NPK fertilizers, and approximately 400 tonnes of urea fertilizer in Bantul and Klaten to more than 130 farmer groups (more than 10,000 faming household beneficiaries). Mercy Corps visited Masohi village of in Central Maluku district to socialize some guidelines on economic empowerment programme to local cooperating partners. Pungent smell from open sewer, clogged drains, filthy water and broken roads have all together made it virtually impossible for a quick return,\" he said.',\n",
       "        ...,\n",
       "        'On 8 December, waves of crude oil began washing ashore, affecting seabirds and threatening various fish farms.',\n",
       "        \"Gut wrenching and heart warming volunteering alongside Americas ' national guard distributing food and H2O after hurricane Sandy until 7pm .\",\n",
       "        'What can I do to throw away garbage? '], dtype=object),\n",
       " array([[ 0.,  0.,  0., ...,  0.,  0.,  0.],\n",
       "        [ 1.,  0.,  0., ...,  0.,  0.,  0.],\n",
       "        [ 1.,  1.,  0., ...,  0.,  1.,  0.],\n",
       "        ..., \n",
       "        [ 1.,  1.,  0., ...,  0.,  0.,  1.],\n",
       "        [ 1.,  0.,  0., ...,  0.,  0.,  1.],\n",
       "        [ 0.,  0.,  0., ...,  0.,  0.,  0.]]))"
      ]
     },
     "execution_count": 23,
     "metadata": {},
     "output_type": "execute_result"
    }
   ],
   "source": [
    "X_train[list(indices)], y_train[list(indices)]"
   ]
  },
  {
   "cell_type": "code",
   "execution_count": 24,
   "metadata": {},
   "outputs": [],
   "source": [
    "X_train = X_train[list(indices)]"
   ]
  },
  {
   "cell_type": "code",
   "execution_count": 25,
   "metadata": {},
   "outputs": [],
   "source": [
    "y_train = y_train[list(indices)]"
   ]
  },
  {
   "cell_type": "code",
   "execution_count": 26,
   "metadata": {},
   "outputs": [
    {
     "data": {
      "text/plain": [
       "Pipeline(memory=None,\n",
       "     steps=[('vect', CountVectorizer(analyzer='word', binary=False, decode_error='strict',\n",
       "        dtype=<class 'numpy.int64'>, encoding='utf-8', input='content',\n",
       "        lowercase=True, max_df=1.0, max_features=None, min_df=1,\n",
       "        ngram_range=(1, 1), preprocessor=None, stop_words=None,\n",
       "        strip...oob_score=False, random_state=None, verbose=0,\n",
       "            warm_start=False),\n",
       "           n_jobs=1))])"
      ]
     },
     "execution_count": 26,
     "metadata": {},
     "output_type": "execute_result"
    }
   ],
   "source": [
    "# train classifier\n",
    "pipeline.fit(X_train, y_train)"
   ]
  },
  {
   "cell_type": "code",
   "execution_count": 27,
   "metadata": {},
   "outputs": [
    {
     "data": {
      "text/plain": [
       "6496"
      ]
     },
     "execution_count": 27,
     "metadata": {},
     "output_type": "execute_result"
    }
   ],
   "source": [
    "idx = np.argwhere(~np.isnan(y_test))\n",
    "indices = set()\n",
    "for index in idx:\n",
    "    indices.add(index[0])\n",
    "    \n",
    "len(indices)"
   ]
  },
  {
   "cell_type": "code",
   "execution_count": 28,
   "metadata": {},
   "outputs": [],
   "source": [
    "# predict on test data\n",
    "y_pred = pipeline.predict(X_test[list(indices)])"
   ]
  },
  {
   "cell_type": "code",
   "execution_count": 29,
   "metadata": {},
   "outputs": [],
   "source": [
    "y_test = y_test[list(indices)]"
   ]
  },
  {
   "cell_type": "code",
   "execution_count": 30,
   "metadata": {},
   "outputs": [
    {
     "name": "stdout",
     "output_type": "stream",
     "text": [
      "category :  related\n",
      "             precision    recall  f1-score   support\n",
      "\n",
      "        0.0       0.62      0.37      0.46      1463\n",
      "        1.0       0.84      0.93      0.88      5033\n",
      "\n",
      "avg / total       0.79      0.81      0.79      6496\n",
      "\n",
      "category :  request\n",
      "             precision    recall  f1-score   support\n",
      "\n",
      "        0.0       0.88      0.98      0.93      5341\n",
      "        1.0       0.80      0.35      0.49      1155\n",
      "\n",
      "avg / total       0.86      0.87      0.85      6496\n",
      "\n",
      "category :  offer\n",
      "             precision    recall  f1-score   support\n",
      "\n",
      "        0.0       0.99      1.00      1.00      6457\n",
      "        1.0       0.00      0.00      0.00        39\n",
      "\n",
      "avg / total       0.99      0.99      0.99      6496\n",
      "\n",
      "category :  aid_related\n",
      "             precision    recall  f1-score   support\n",
      "\n",
      "        0.0       0.71      0.87      0.78      3750\n",
      "        1.0       0.74      0.51      0.60      2746\n",
      "\n",
      "avg / total       0.72      0.72      0.71      6496\n",
      "\n",
      "category :  medical_help\n",
      "             precision    recall  f1-score   support\n",
      "\n",
      "        0.0       0.92      1.00      0.96      5971\n",
      "        1.0       0.64      0.06      0.11       525\n",
      "\n",
      "avg / total       0.90      0.92      0.89      6496\n",
      "\n",
      "category :  medical_products\n",
      "             precision    recall  f1-score   support\n",
      "\n",
      "        0.0       0.96      1.00      0.98      6194\n",
      "        1.0       0.75      0.04      0.08       302\n",
      "\n",
      "avg / total       0.95      0.95      0.93      6496\n",
      "\n",
      "category :  search_and_rescue\n",
      "             precision    recall  f1-score   support\n",
      "\n",
      "        0.0       0.98      1.00      0.99      6327\n",
      "        1.0       0.58      0.08      0.15       169\n",
      "\n",
      "avg / total       0.97      0.97      0.97      6496\n",
      "\n",
      "category :  security\n",
      "             precision    recall  f1-score   support\n",
      "\n",
      "        0.0       0.98      1.00      0.99      6369\n",
      "        1.0       0.33      0.02      0.03       127\n",
      "\n",
      "avg / total       0.97      0.98      0.97      6496\n",
      "\n",
      "category :  military\n",
      "             precision    recall  f1-score   support\n",
      "\n",
      "        0.0       0.97      1.00      0.98      6286\n",
      "        1.0       0.63      0.06      0.10       210\n",
      "\n",
      "avg / total       0.96      0.97      0.96      6496\n",
      "\n",
      "category :  child_alone\n",
      "             precision    recall  f1-score   support\n",
      "\n",
      "        0.0       1.00      1.00      1.00      6496\n",
      "\n",
      "avg / total       1.00      1.00      1.00      6496\n",
      "\n",
      "category :  water\n",
      "             precision    recall  f1-score   support\n",
      "\n",
      "        0.0       0.95      1.00      0.97      6097\n",
      "        1.0       0.83      0.18      0.30       399\n",
      "\n",
      "avg / total       0.94      0.95      0.93      6496\n",
      "\n",
      "category :  food\n",
      "             precision    recall  f1-score   support\n",
      "\n",
      "        0.0       0.93      0.99      0.96      5773\n",
      "        1.0       0.84      0.36      0.50       723\n",
      "\n",
      "avg / total       0.92      0.92      0.91      6496\n",
      "\n",
      "category :  shelter\n",
      "             precision    recall  f1-score   support\n",
      "\n",
      "        0.0       0.93      0.99      0.96      5874\n",
      "        1.0       0.80      0.29      0.42       622\n",
      "\n",
      "avg / total       0.92      0.92      0.91      6496\n",
      "\n",
      "category :  clothing\n",
      "             precision    recall  f1-score   support\n",
      "\n",
      "        0.0       0.99      1.00      0.99      6402\n",
      "        1.0       0.79      0.12      0.20        94\n",
      "\n",
      "avg / total       0.98      0.99      0.98      6496\n",
      "\n",
      "category :  money\n",
      "             precision    recall  f1-score   support\n",
      "\n",
      "        0.0       0.98      1.00      0.99      6360\n",
      "        1.0       0.75      0.04      0.08       136\n",
      "\n",
      "avg / total       0.98      0.98      0.97      6496\n",
      "\n",
      "category :  missing_people\n",
      "             precision    recall  f1-score   support\n",
      "\n",
      "        0.0       0.99      1.00      0.99      6425\n",
      "        1.0       0.75      0.04      0.08        71\n",
      "\n",
      "avg / total       0.99      0.99      0.98      6496\n",
      "\n",
      "category :  refugees\n",
      "             precision    recall  f1-score   support\n",
      "\n",
      "        0.0       0.97      1.00      0.98      6259\n",
      "        1.0       0.70      0.08      0.14       237\n",
      "\n",
      "avg / total       0.96      0.97      0.95      6496\n",
      "\n",
      "category :  death\n",
      "             precision    recall  f1-score   support\n",
      "\n",
      "        0.0       0.96      1.00      0.98      6190\n",
      "        1.0       0.76      0.12      0.21       306\n",
      "\n",
      "avg / total       0.95      0.96      0.94      6496\n",
      "\n",
      "category :  other_aid\n",
      "             precision    recall  f1-score   support\n",
      "\n",
      "        0.0       0.87      0.99      0.93      5643\n",
      "        1.0       0.47      0.03      0.06       853\n",
      "\n",
      "avg / total       0.82      0.87      0.82      6496\n",
      "\n",
      "category :  infrastructure_related\n",
      "             precision    recall  f1-score   support\n",
      "\n",
      "        0.0       0.93      1.00      0.96      6058\n",
      "        1.0       0.17      0.00      0.01       438\n",
      "\n",
      "avg / total       0.88      0.93      0.90      6496\n",
      "\n",
      "category :  transport\n",
      "             precision    recall  f1-score   support\n",
      "\n",
      "        0.0       0.96      1.00      0.98      6198\n",
      "        1.0       0.62      0.04      0.08       298\n",
      "\n",
      "avg / total       0.94      0.95      0.94      6496\n",
      "\n",
      "category :  buildings\n",
      "             precision    recall  f1-score   support\n",
      "\n",
      "        0.0       0.95      1.00      0.98      6165\n",
      "        1.0       0.79      0.09      0.16       331\n",
      "\n",
      "avg / total       0.95      0.95      0.93      6496\n",
      "\n",
      "category :  electricity\n",
      "             precision    recall  f1-score   support\n",
      "\n",
      "        0.0       0.98      1.00      0.99      6381\n",
      "        1.0       0.62      0.07      0.12       115\n",
      "\n",
      "avg / total       0.98      0.98      0.98      6496\n",
      "\n",
      "category :  tools\n",
      "             precision    recall  f1-score   support\n",
      "\n",
      "        0.0       0.99      1.00      1.00      6461\n",
      "        1.0       0.00      0.00      0.00        35\n",
      "\n",
      "avg / total       0.99      0.99      0.99      6496\n",
      "\n",
      "category :  hospitals\n",
      "             precision    recall  f1-score   support\n",
      "\n",
      "        0.0       0.99      1.00      0.99      6418\n",
      "        1.0       0.00      0.00      0.00        78\n",
      "\n",
      "avg / total       0.98      0.99      0.98      6496\n",
      "\n",
      "category :  shops\n",
      "             precision    recall  f1-score   support\n",
      "\n",
      "        0.0       0.99      1.00      1.00      6462\n",
      "        1.0       0.00      0.00      0.00        34\n",
      "\n",
      "avg / total       0.99      0.99      0.99      6496\n",
      "\n",
      "category :  aid_centers\n",
      "             precision    recall  f1-score   support\n",
      "\n",
      "        0.0       0.99      1.00      0.99      6419\n",
      "        1.0       0.00      0.00      0.00        77\n",
      "\n",
      "avg / total       0.98      0.99      0.98      6496\n",
      "\n",
      "category :  other_infrastructure\n",
      "             precision    recall  f1-score   support\n",
      "\n",
      "        0.0       0.96      1.00      0.98      6210\n",
      "        1.0       0.00      0.00      0.00       286\n",
      "\n",
      "avg / total       0.91      0.96      0.93      6496\n",
      "\n",
      "category :  weather_related\n",
      "             precision    recall  f1-score   support\n",
      "\n",
      "        0.0       0.83      0.96      0.89      4625\n",
      "        1.0       0.85      0.50      0.63      1871\n",
      "\n",
      "avg / total       0.83      0.83      0.82      6496\n",
      "\n",
      "category :  floods\n",
      "             precision    recall  f1-score   support\n",
      "\n",
      "        0.0       0.92      1.00      0.96      5896\n",
      "        1.0       0.86      0.20      0.32       600\n",
      "\n",
      "avg / total       0.92      0.92      0.90      6496\n",
      "\n",
      "category :  storm\n",
      "             precision    recall  f1-score   support\n",
      "\n",
      "        0.0       0.94      0.99      0.96      5879\n",
      "        1.0       0.79      0.40      0.53       617\n",
      "\n",
      "avg / total       0.93      0.93      0.92      6496\n",
      "\n",
      "category :  fire\n",
      "             precision    recall  f1-score   support\n",
      "\n",
      "        0.0       0.99      1.00      0.99      6416\n",
      "        1.0       1.00      0.03      0.05        80\n",
      "\n",
      "avg / total       0.99      0.99      0.98      6496\n",
      "\n",
      "category :  earthquake\n",
      "             precision    recall  f1-score   support\n",
      "\n",
      "        0.0       0.96      0.99      0.98      5881\n",
      "        1.0       0.90      0.61      0.72       615\n",
      "\n",
      "avg / total       0.95      0.96      0.95      6496\n",
      "\n",
      "category :  cold\n",
      "             precision    recall  f1-score   support\n",
      "\n",
      "        0.0       0.98      1.00      0.99      6365\n",
      "        1.0       0.80      0.06      0.11       131\n",
      "\n",
      "avg / total       0.98      0.98      0.97      6496\n",
      "\n",
      "category :  other_weather\n",
      "             precision    recall  f1-score   support\n",
      "\n",
      "        0.0       0.95      1.00      0.97      6151\n",
      "        1.0       0.67      0.03      0.06       345\n",
      "\n",
      "avg / total       0.93      0.95      0.92      6496\n",
      "\n",
      "category :  direct_report\n",
      "             precision    recall  f1-score   support\n",
      "\n",
      "        0.0       0.85      0.98      0.91      5177\n",
      "        1.0       0.79      0.33      0.46      1319\n",
      "\n",
      "avg / total       0.84      0.85      0.82      6496\n",
      "\n"
     ]
    },
    {
     "name": "stderr",
     "output_type": "stream",
     "text": [
      "/opt/conda/lib/python3.6/site-packages/sklearn/metrics/classification.py:1135: UndefinedMetricWarning: Precision and F-score are ill-defined and being set to 0.0 in labels with no predicted samples.\n",
      "  'precision', 'predicted', average, warn_for)\n"
     ]
    }
   ],
   "source": [
    "for i, col in enumerate(y.columns):\n",
    "    print(\"category : \", col)\n",
    "    print(classification_report(y_test[:,i], y_pred[:, i]))"
   ]
  },
  {
   "cell_type": "markdown",
   "metadata": {},
   "source": [
    "### 5. Test your model\n",
    "Report the f1 score, precision and recall for each output category of the dataset. You can do this by iterating through the columns and calling sklearn's `classification_report` on each."
   ]
  },
  {
   "cell_type": "code",
   "execution_count": 31,
   "metadata": {},
   "outputs": [
    {
     "data": {
      "text/plain": [
       "(6496, 36)"
      ]
     },
     "execution_count": 31,
     "metadata": {},
     "output_type": "execute_result"
    }
   ],
   "source": [
    "y_test.shape"
   ]
  },
  {
   "cell_type": "code",
   "execution_count": 32,
   "metadata": {},
   "outputs": [
    {
     "data": {
      "text/plain": [
       "{'memory': None,\n",
       " 'steps': [('vect',\n",
       "   CountVectorizer(analyzer='word', binary=False, decode_error='strict',\n",
       "           dtype=<class 'numpy.int64'>, encoding='utf-8', input='content',\n",
       "           lowercase=True, max_df=1.0, max_features=None, min_df=1,\n",
       "           ngram_range=(1, 1), preprocessor=None, stop_words=None,\n",
       "           strip_accents=None, token_pattern='(?u)\\\\b\\\\w\\\\w+\\\\b',\n",
       "           tokenizer=<function tokenize at 0x7f03192541e0>, vocabulary=None)),\n",
       "  ('tdfidf',\n",
       "   TfidfTransformer(norm='l2', smooth_idf=True, sublinear_tf=False, use_idf=True)),\n",
       "  ('clf',\n",
       "   MultiOutputClassifier(estimator=RandomForestClassifier(bootstrap=True, class_weight=None, criterion='gini',\n",
       "               max_depth=None, max_features='auto', max_leaf_nodes=None,\n",
       "               min_impurity_decrease=0.0, min_impurity_split=None,\n",
       "               min_samples_leaf=1, min_samples_split=2,\n",
       "               min_weight_fraction_leaf=0.0, n_estimators=10, n_jobs=1,\n",
       "               oob_score=False, random_state=None, verbose=0,\n",
       "               warm_start=False),\n",
       "              n_jobs=1))],\n",
       " 'vect': CountVectorizer(analyzer='word', binary=False, decode_error='strict',\n",
       "         dtype=<class 'numpy.int64'>, encoding='utf-8', input='content',\n",
       "         lowercase=True, max_df=1.0, max_features=None, min_df=1,\n",
       "         ngram_range=(1, 1), preprocessor=None, stop_words=None,\n",
       "         strip_accents=None, token_pattern='(?u)\\\\b\\\\w\\\\w+\\\\b',\n",
       "         tokenizer=<function tokenize at 0x7f03192541e0>, vocabulary=None),\n",
       " 'tdfidf': TfidfTransformer(norm='l2', smooth_idf=True, sublinear_tf=False, use_idf=True),\n",
       " 'clf': MultiOutputClassifier(estimator=RandomForestClassifier(bootstrap=True, class_weight=None, criterion='gini',\n",
       "             max_depth=None, max_features='auto', max_leaf_nodes=None,\n",
       "             min_impurity_decrease=0.0, min_impurity_split=None,\n",
       "             min_samples_leaf=1, min_samples_split=2,\n",
       "             min_weight_fraction_leaf=0.0, n_estimators=10, n_jobs=1,\n",
       "             oob_score=False, random_state=None, verbose=0,\n",
       "             warm_start=False),\n",
       "            n_jobs=1),\n",
       " 'vect__analyzer': 'word',\n",
       " 'vect__binary': False,\n",
       " 'vect__decode_error': 'strict',\n",
       " 'vect__dtype': numpy.int64,\n",
       " 'vect__encoding': 'utf-8',\n",
       " 'vect__input': 'content',\n",
       " 'vect__lowercase': True,\n",
       " 'vect__max_df': 1.0,\n",
       " 'vect__max_features': None,\n",
       " 'vect__min_df': 1,\n",
       " 'vect__ngram_range': (1, 1),\n",
       " 'vect__preprocessor': None,\n",
       " 'vect__stop_words': None,\n",
       " 'vect__strip_accents': None,\n",
       " 'vect__token_pattern': '(?u)\\\\b\\\\w\\\\w+\\\\b',\n",
       " 'vect__tokenizer': <function __main__.tokenize(text)>,\n",
       " 'vect__vocabulary': None,\n",
       " 'tdfidf__norm': 'l2',\n",
       " 'tdfidf__smooth_idf': True,\n",
       " 'tdfidf__sublinear_tf': False,\n",
       " 'tdfidf__use_idf': True,\n",
       " 'clf__estimator__bootstrap': True,\n",
       " 'clf__estimator__class_weight': None,\n",
       " 'clf__estimator__criterion': 'gini',\n",
       " 'clf__estimator__max_depth': None,\n",
       " 'clf__estimator__max_features': 'auto',\n",
       " 'clf__estimator__max_leaf_nodes': None,\n",
       " 'clf__estimator__min_impurity_decrease': 0.0,\n",
       " 'clf__estimator__min_impurity_split': None,\n",
       " 'clf__estimator__min_samples_leaf': 1,\n",
       " 'clf__estimator__min_samples_split': 2,\n",
       " 'clf__estimator__min_weight_fraction_leaf': 0.0,\n",
       " 'clf__estimator__n_estimators': 10,\n",
       " 'clf__estimator__n_jobs': 1,\n",
       " 'clf__estimator__oob_score': False,\n",
       " 'clf__estimator__random_state': None,\n",
       " 'clf__estimator__verbose': 0,\n",
       " 'clf__estimator__warm_start': False,\n",
       " 'clf__estimator': RandomForestClassifier(bootstrap=True, class_weight=None, criterion='gini',\n",
       "             max_depth=None, max_features='auto', max_leaf_nodes=None,\n",
       "             min_impurity_decrease=0.0, min_impurity_split=None,\n",
       "             min_samples_leaf=1, min_samples_split=2,\n",
       "             min_weight_fraction_leaf=0.0, n_estimators=10, n_jobs=1,\n",
       "             oob_score=False, random_state=None, verbose=0,\n",
       "             warm_start=False),\n",
       " 'clf__n_jobs': 1}"
      ]
     },
     "execution_count": 32,
     "metadata": {},
     "output_type": "execute_result"
    }
   ],
   "source": [
    "pipeline.get_params()"
   ]
  },
  {
   "cell_type": "markdown",
   "metadata": {},
   "source": [
    "### 6. Improve your model\n",
    "Use grid search to find better parameters. "
   ]
  },
  {
   "cell_type": "code",
   "execution_count": null,
   "metadata": {},
   "outputs": [],
   "source": [
    "from sklearn.neural_network import MLPClassifier\n",
    "from sklearn.preprocessing import StandardScaler\n",
    "\n",
    "mlpc = MLPClassifier(solver='adam',\n",
    "                     learning_rate_init=0.01,\n",
    "                     max_iter=300,\n",
    "                     activation='relu',\n",
    "                     early_stopping=True)\n",
    "pipe = Pipeline(steps=[('cv', CountVectorizer(ngram_range=(1, 1))),\n",
    "                       ('scale', StandardScaler(with_mean=False)),\n",
    "                       ('mlpc', MultiOutputClassifier(mlpc))])\n",
    "search_space = {\n",
    "    'cv__max_df': (0.9, 0.95, 0.99),\n",
    "    'cv__min_df': (0.01, 0.05, 0.1),\n",
    "    'mlpc__estimator__alpha': 10.0 ** -np.arange(1, 5),\n",
    "    'mlpc__estimator__hidden_layer_sizes': ((64, 32)),\n",
    "#     'mlpc__estimator__hidden_layer_sizes': ((64, 32), (128, 64)),\n",
    "#     'mlpc__estimator__hidden_layer_sizes': ((64, 32), (128, 64),\n",
    "#                                             (64, 32, 16), (128, 64, 32)),\n",
    "    'mlpc__estimator__tol': (1e-3, 5e-3, 1e-4),\n",
    "}"
   ]
  },
  {
   "cell_type": "code",
   "execution_count": null,
   "metadata": {
    "scrolled": false
   },
   "outputs": [],
   "source": [
    "cv = GridSearchCV(pipe, param_grid=search_space)\n",
    "cv.fit(X_train, y_train)\n",
    "y_pred = cv.predict(X_test[list(indices)])"
   ]
  },
  {
   "cell_type": "code",
   "execution_count": null,
   "metadata": {},
   "outputs": [],
   "source": [
    "pipe.get_params()"
   ]
  },
  {
   "cell_type": "code",
   "execution_count": 33,
   "metadata": {},
   "outputs": [],
   "source": [
    "# parameters = {\n",
    "#         'vect__ngram_range': ((1, 1), (1, 2)),\n",
    "#         'clf__estimator__n_estimators': [50, 100, 200],\n",
    "#         'clf__estimator__min_samples_split': [2, 3, 4]\n",
    "#     }\n",
    "\n",
    "# parameters = {\n",
    "#         'vect__ngram_range': ((1, 1), (1, 2)),\n",
    "#         'clf__estimator__n_estimators': [25, 100],\n",
    "#         'clf__estimator__min_samples_split': [2, 4]\n",
    "#     }\n",
    "\n",
    "parameters = {\n",
    "        'clf__estimator__n_estimators': [100],\n",
    "        'clf__estimator__min_samples_split': [2, 4]\n",
    "    }\n",
    "\n",
    "cv = GridSearchCV(pipeline, param_grid=parameters, cv=2, verbose = 3)"
   ]
  },
  {
   "cell_type": "code",
   "execution_count": 34,
   "metadata": {
    "scrolled": true
   },
   "outputs": [
    {
     "name": "stdout",
     "output_type": "stream",
     "text": [
      "Fitting 2 folds for each of 2 candidates, totalling 4 fits\n",
      "[CV] clf__estimator__min_samples_split=2, clf__estimator__n_estimators=100 \n",
      "[CV]  clf__estimator__min_samples_split=2, clf__estimator__n_estimators=100, score=0.23653491705918492, total= 3.4min\n",
      "[CV] clf__estimator__min_samples_split=2, clf__estimator__n_estimators=100 \n"
     ]
    },
    {
     "name": "stderr",
     "output_type": "stream",
     "text": [
      "[Parallel(n_jobs=1)]: Done   1 out of   1 | elapsed:  3.7min remaining:    0.0s\n"
     ]
    },
    {
     "name": "stdout",
     "output_type": "stream",
     "text": [
      "[CV]  clf__estimator__min_samples_split=2, clf__estimator__n_estimators=100, score=0.23817325414704074, total= 3.4min\n",
      "[CV] clf__estimator__min_samples_split=4, clf__estimator__n_estimators=100 \n"
     ]
    },
    {
     "name": "stderr",
     "output_type": "stream",
     "text": [
      "[Parallel(n_jobs=1)]: Done   2 out of   2 | elapsed:  7.4min remaining:    0.0s\n"
     ]
    },
    {
     "name": "stdout",
     "output_type": "stream",
     "text": [
      "[CV]  clf__estimator__min_samples_split=4, clf__estimator__n_estimators=100, score=0.23223428220356337, total= 3.0min\n",
      "[CV] clf__estimator__min_samples_split=4, clf__estimator__n_estimators=100 \n",
      "[CV]  clf__estimator__min_samples_split=4, clf__estimator__n_estimators=100, score=0.2369445013311489, total= 3.1min\n"
     ]
    },
    {
     "name": "stderr",
     "output_type": "stream",
     "text": [
      "[Parallel(n_jobs=1)]: Done   4 out of   4 | elapsed: 14.2min finished\n"
     ]
    }
   ],
   "source": [
    "cv.fit(X_train, y_train)"
   ]
  },
  {
   "cell_type": "code",
   "execution_count": 37,
   "metadata": {},
   "outputs": [],
   "source": [
    "y_pred = cv.predict(X_test[list(indices)])"
   ]
  },
  {
   "cell_type": "code",
   "execution_count": 38,
   "metadata": {},
   "outputs": [
    {
     "name": "stdout",
     "output_type": "stream",
     "text": [
      "category :  related\n",
      "             precision    recall  f1-score   support\n",
      "\n",
      "        0.0       0.26      0.10      0.14      1463\n",
      "        1.0       0.78      0.92      0.84      5033\n",
      "\n",
      "avg / total       0.66      0.73      0.68      6496\n",
      "\n",
      "category :  request\n",
      "             precision    recall  f1-score   support\n",
      "\n",
      "        0.0       0.83      0.92      0.87      5341\n",
      "        1.0       0.21      0.10      0.13      1155\n",
      "\n",
      "avg / total       0.72      0.78      0.74      6496\n",
      "\n",
      "category :  offer\n",
      "             precision    recall  f1-score   support\n",
      "\n",
      "        0.0       0.99      1.00      1.00      6457\n",
      "        1.0       0.00      0.00      0.00        39\n",
      "\n",
      "avg / total       0.99      0.99      0.99      6496\n",
      "\n",
      "category :  aid_related\n",
      "             precision    recall  f1-score   support\n",
      "\n",
      "        0.0       0.58      0.68      0.63      3750\n",
      "        1.0       0.43      0.33      0.38      2746\n",
      "\n",
      "avg / total       0.52      0.53      0.52      6496\n",
      "\n",
      "category :  medical_help\n",
      "             precision    recall  f1-score   support\n",
      "\n",
      "        0.0       0.92      1.00      0.96      5971\n",
      "        1.0       0.07      0.00      0.01       525\n",
      "\n",
      "avg / total       0.85      0.92      0.88      6496\n",
      "\n",
      "category :  medical_products\n",
      "             precision    recall  f1-score   support\n",
      "\n",
      "        0.0       0.95      1.00      0.97      6194\n",
      "        1.0       0.00      0.00      0.00       302\n",
      "\n",
      "avg / total       0.91      0.95      0.93      6496\n",
      "\n",
      "category :  search_and_rescue\n",
      "             precision    recall  f1-score   support\n",
      "\n",
      "        0.0       0.97      1.00      0.99      6327\n",
      "        1.0       0.33      0.01      0.01       169\n",
      "\n",
      "avg / total       0.96      0.97      0.96      6496\n",
      "\n",
      "category :  security\n",
      "             precision    recall  f1-score   support\n",
      "\n",
      "        0.0       0.98      1.00      0.99      6369\n",
      "        1.0       0.00      0.00      0.00       127\n",
      "\n",
      "avg / total       0.96      0.98      0.97      6496\n",
      "\n",
      "category :  military\n",
      "             precision    recall  f1-score   support\n",
      "\n",
      "        0.0       0.97      1.00      0.98      6286\n",
      "        1.0       0.00      0.00      0.00       210\n",
      "\n",
      "avg / total       0.94      0.97      0.95      6496\n",
      "\n",
      "category :  child_alone\n",
      "             precision    recall  f1-score   support\n",
      "\n",
      "        0.0       1.00      1.00      1.00      6496\n",
      "\n",
      "avg / total       1.00      1.00      1.00      6496\n",
      "\n",
      "category :  water\n",
      "             precision    recall  f1-score   support\n",
      "\n",
      "        0.0       0.94      0.98      0.96      6097\n",
      "        1.0       0.04      0.01      0.02       399\n",
      "\n",
      "avg / total       0.88      0.92      0.90      6496\n",
      "\n",
      "category :  food\n",
      "             precision    recall  f1-score   support\n",
      "\n",
      "        0.0       0.89      0.95      0.92      5773\n",
      "        1.0       0.13      0.06      0.09       723\n",
      "\n",
      "avg / total       0.81      0.85      0.83      6496\n",
      "\n",
      "category :  shelter\n",
      "             precision    recall  f1-score   support\n",
      "\n",
      "        0.0       0.90      0.98      0.94      5874\n",
      "        1.0       0.11      0.03      0.04       622\n",
      "\n",
      "avg / total       0.83      0.89      0.85      6496\n",
      "\n",
      "category :  clothing\n",
      "             precision    recall  f1-score   support\n",
      "\n",
      "        0.0       0.99      1.00      0.99      6402\n",
      "        1.0       0.14      0.01      0.02        94\n",
      "\n",
      "avg / total       0.97      0.98      0.98      6496\n",
      "\n",
      "category :  money\n",
      "             precision    recall  f1-score   support\n",
      "\n",
      "        0.0       0.98      1.00      0.99      6360\n",
      "        1.0       0.33      0.01      0.01       136\n",
      "\n",
      "avg / total       0.97      0.98      0.97      6496\n",
      "\n",
      "category :  missing_people\n",
      "             precision    recall  f1-score   support\n",
      "\n",
      "        0.0       0.99      1.00      0.99      6425\n",
      "        1.0       0.00      0.00      0.00        71\n",
      "\n",
      "avg / total       0.98      0.99      0.98      6496\n",
      "\n",
      "category :  refugees\n",
      "             precision    recall  f1-score   support\n",
      "\n",
      "        0.0       0.96      1.00      0.98      6259\n",
      "        1.0       0.00      0.00      0.00       237\n",
      "\n",
      "avg / total       0.93      0.96      0.95      6496\n",
      "\n",
      "category :  death\n",
      "             precision    recall  f1-score   support\n",
      "\n",
      "        0.0       0.95      0.99      0.97      6190\n",
      "        1.0       0.08      0.01      0.02       306\n",
      "\n",
      "avg / total       0.91      0.95      0.93      6496\n",
      "\n",
      "category :  other_aid\n",
      "             precision    recall  f1-score   support\n",
      "\n",
      "        0.0       0.87      1.00      0.93      5643\n",
      "        1.0       0.19      0.00      0.01       853\n",
      "\n",
      "avg / total       0.78      0.87      0.81      6496\n",
      "\n",
      "category :  infrastructure_related\n",
      "             precision    recall  f1-score   support\n",
      "\n",
      "        0.0       0.93      1.00      0.96      6058\n",
      "        1.0       0.17      0.00      0.00       438\n",
      "\n",
      "avg / total       0.88      0.93      0.90      6496\n",
      "\n",
      "category :  transport\n",
      "             precision    recall  f1-score   support\n",
      "\n",
      "        0.0       0.95      1.00      0.97      6198\n",
      "        1.0       0.04      0.00      0.01       298\n",
      "\n",
      "avg / total       0.91      0.95      0.93      6496\n",
      "\n",
      "category :  buildings\n",
      "             precision    recall  f1-score   support\n",
      "\n",
      "        0.0       0.95      1.00      0.97      6165\n",
      "        1.0       0.06      0.01      0.01       331\n",
      "\n",
      "avg / total       0.90      0.94      0.92      6496\n",
      "\n",
      "category :  electricity\n",
      "             precision    recall  f1-score   support\n",
      "\n",
      "        0.0       0.98      1.00      0.99      6381\n",
      "        1.0       0.00      0.00      0.00       115\n",
      "\n",
      "avg / total       0.96      0.98      0.97      6496\n",
      "\n",
      "category :  tools\n",
      "             precision    recall  f1-score   support\n",
      "\n",
      "        0.0       0.99      1.00      1.00      6461\n",
      "        1.0       0.00      0.00      0.00        35\n",
      "\n",
      "avg / total       0.99      0.99      0.99      6496\n",
      "\n",
      "category :  hospitals\n",
      "             precision    recall  f1-score   support\n",
      "\n",
      "        0.0       0.99      1.00      0.99      6418\n",
      "        1.0       0.00      0.00      0.00        78\n",
      "\n",
      "avg / total       0.98      0.99      0.98      6496\n",
      "\n",
      "category :  shops\n",
      "             precision    recall  f1-score   support\n",
      "\n",
      "        0.0       0.99      1.00      1.00      6462\n",
      "        1.0       0.00      0.00      0.00        34\n",
      "\n",
      "avg / total       0.99      0.99      0.99      6496\n",
      "\n",
      "category :  aid_centers\n",
      "             precision    recall  f1-score   support\n",
      "\n",
      "        0.0       0.99      1.00      0.99      6419\n",
      "        1.0       0.00      0.00      0.00        77\n",
      "\n",
      "avg / total       0.98      0.99      0.98      6496\n",
      "\n",
      "category :  other_infrastructure\n",
      "             precision    recall  f1-score   support\n",
      "\n",
      "        0.0       0.96      1.00      0.98      6210\n",
      "        1.0       0.25      0.00      0.01       286\n",
      "\n",
      "avg / total       0.93      0.96      0.93      6496\n",
      "\n",
      "category :  weather_related\n",
      "             precision    recall  f1-score   support\n",
      "\n",
      "        0.0       0.71      0.80      0.75      4625\n",
      "        1.0       0.28      0.19      0.23      1871\n",
      "\n",
      "avg / total       0.59      0.62      0.60      6496\n",
      "\n",
      "category :  floods\n",
      "             precision    recall  f1-score   support\n",
      "\n",
      "        0.0       0.91      0.96      0.93      5896\n",
      "        1.0       0.09      0.04      0.05       600\n",
      "\n",
      "avg / total       0.83      0.88      0.85      6496\n",
      "\n",
      "category :  storm\n",
      "             precision    recall  f1-score   support\n",
      "\n",
      "        0.0       0.90      0.95      0.93      5879\n",
      "        1.0       0.08      0.04      0.05       617\n",
      "\n",
      "avg / total       0.83      0.86      0.84      6496\n",
      "\n",
      "category :  fire\n",
      "             precision    recall  f1-score   support\n",
      "\n",
      "        0.0       0.99      1.00      0.99      6416\n",
      "        1.0       0.00      0.00      0.00        80\n",
      "\n",
      "avg / total       0.98      0.99      0.98      6496\n",
      "\n",
      "category :  earthquake\n",
      "             precision    recall  f1-score   support\n",
      "\n",
      "        0.0       0.90      0.92      0.91      5881\n",
      "        1.0       0.07      0.06      0.07       615\n",
      "\n",
      "avg / total       0.82      0.84      0.83      6496\n",
      "\n",
      "category :  cold\n",
      "             precision    recall  f1-score   support\n",
      "\n",
      "        0.0       0.98      1.00      0.99      6365\n",
      "        1.0       0.00      0.00      0.00       131\n",
      "\n",
      "avg / total       0.96      0.98      0.97      6496\n",
      "\n",
      "category :  other_weather\n",
      "             precision    recall  f1-score   support\n",
      "\n",
      "        0.0       0.95      1.00      0.97      6151\n",
      "        1.0       0.00      0.00      0.00       345\n",
      "\n",
      "avg / total       0.90      0.95      0.92      6496\n",
      "\n",
      "category :  direct_report\n",
      "             precision    recall  f1-score   support\n",
      "\n",
      "        0.0       0.80      0.93      0.86      5177\n",
      "        1.0       0.23      0.08      0.12      1319\n",
      "\n",
      "avg / total       0.68      0.75      0.71      6496\n",
      "\n"
     ]
    },
    {
     "name": "stderr",
     "output_type": "stream",
     "text": [
      "/opt/conda/lib/python3.6/site-packages/sklearn/metrics/classification.py:1135: UndefinedMetricWarning: Precision and F-score are ill-defined and being set to 0.0 in labels with no predicted samples.\n",
      "  'precision', 'predicted', average, warn_for)\n"
     ]
    }
   ],
   "source": [
    "for i, col in enumerate(y.columns):\n",
    "    print(\"category : \", col)\n",
    "    print(classification_report(y_test[:,i], y_pred[:, i]))"
   ]
  },
  {
   "cell_type": "markdown",
   "metadata": {},
   "source": [
    "### 7. Test your model\n",
    "Show the accuracy, precision, and recall of the tuned model.  \n",
    "\n",
    "Since this project focuses on code quality, process, and  pipelines, there is no minimum performance metric needed to pass. However, make sure to fine tune your models for accuracy, precision and recall to make your project stand out - especially for your portfolio!"
   ]
  },
  {
   "cell_type": "code",
   "execution_count": null,
   "metadata": {},
   "outputs": [],
   "source": []
  },
  {
   "cell_type": "markdown",
   "metadata": {},
   "source": [
    "### 8. Try improving your model further. Here are a few ideas:\n",
    "* try other machine learning algorithms\n",
    "* add other features besides the TF-IDF"
   ]
  },
  {
   "cell_type": "code",
   "execution_count": null,
   "metadata": {},
   "outputs": [],
   "source": []
  },
  {
   "cell_type": "markdown",
   "metadata": {},
   "source": [
    "### 9. Export your model as a pickle file"
   ]
  },
  {
   "cell_type": "code",
   "execution_count": 39,
   "metadata": {},
   "outputs": [],
   "source": [
    "import pickle\n",
    "pickle.dump(cv, open('model.pkl', 'wb'))"
   ]
  },
  {
   "cell_type": "markdown",
   "metadata": {},
   "source": [
    "### 10. Use this notebook to complete `train.py`\n",
    "Use the template file attached in the Resources folder to write a script that runs the steps above to create a database and export a model based on a new dataset specified by the user."
   ]
  },
  {
   "cell_type": "code",
   "execution_count": null,
   "metadata": {},
   "outputs": [],
   "source": []
  }
 ],
 "metadata": {
  "kernelspec": {
   "display_name": "Python 3",
   "language": "python",
   "name": "python3"
  },
  "language_info": {
   "codemirror_mode": {
    "name": "ipython",
    "version": 3
   },
   "file_extension": ".py",
   "mimetype": "text/x-python",
   "name": "python",
   "nbconvert_exporter": "python",
   "pygments_lexer": "ipython3",
   "version": "3.6.3"
  }
 },
 "nbformat": 4,
 "nbformat_minor": 2
}
